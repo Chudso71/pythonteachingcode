{
 "cells": [
  {
   "attachments": {},
   "cell_type": "markdown",
   "metadata": {
    "collapsed": true,
    "jupyter": {
     "outputs_hidden": true
    }
   },
   "source": [
    "#  P1M4: Module 4 Required Coding Activity  \n",
    "Introduction to Python Unit 1 \n",
    "\n",
    "The activity is based on modules 1 - 4 and is similar to the Jupyter Notebooks **`Practice_MOD04_1-6_IntroPy.ipynb`** and **`Practice_MOD04_1-7_IntroPy.ipynb`** which you may have completed as practice.  This activity is a new version of the str_analysis() function.\n",
    "\n",
    "| Some Assignment Requirements |\n",
    "|:-------------------------------|\n",
    "|This program requires the use of<ul><li>**`while`** loop to get non-empty input</li><li>**`if, else`**</li><li>**`if, else`** (nested)</li><li>**`.isdigit()`** check for integer only input</li><li>**`.isalpha()`** check for alphabetic only input</li></ul><br/>The program should **only** use code syntax covered in modules 1 - 4.<br/><br/>The program must result in printed message analysis of the input. Be sure to include your full name in the input prompt. See the sample input for more detail.  |\n",
    "\n",
    "\n",
    "  \n",
    "## Program: `str_analysis()` Function  \n",
    "\n",
    "Create the str_analysis() function that takes 1 string argument and returns a string message.  The message will be an analysis of a test string that is passed as an argument to str_analysis(). The function should respond with messages such as:  \n",
    "- \"big number\"\n",
    "- \"small number\"\n",
    "- \"all alphabetic\"\n",
    "- \"multiple character types\"\n",
    "\n",
    "The program will call str_analysis() with a string argument from input collected within a while loop.  The while loop will test if input is empty (an empty string \"\") and continue to loop and gather input until the user submits at least 1 character (input cannot be empty).  \n",
    "\n",
    "The program then calls the str_analysis() function and prints the **return** message.\n",
    "\n",
    "\n",
    "\n",
    "#### Sample input and output:  \n",
    "enter nothing (twice) then enter a word  \n",
    "```\n",
    "[YOUR FULL NAME GOES HERE], enter word or integer: \n",
    "[YOUR FULL NAME GOES HERE], enter word or integer: \n",
    "[YOUR FULL NAME GOES HERE], enter word or integer: Hello\n",
    "\"Hello\" is all alphabetical characters!\n",
    "  \n",
    "```  \n",
    "-----    \n",
    "  \n",
    "alphabetical word input \n",
    "```\n",
    "[YOUR FULL NAME GOES HERE], enter word or integer: carbonization\n",
    "\"carbonization\" is all alphabetical characters!\n",
    "  \n",
    "```  \n",
    "-----     \n",
    "   \n",
    "numeric inputs\n",
    "```\n",
    "[YOUR FULL NAME GOES HERE], enter word or integer: 30\n",
    "30 is a smaller number than expected\n",
    "\n",
    "[YOUR FULL NAME GOES HERE], enter word or integer: 1024\n",
    "1024 is a pretty big number\n",
    "```  \n",
    "-----  \n",
    "\n",
    "\n",
    "### Loop until non-empty input is submitted  \n",
    "In the input part of the assignment keep prompting the user for input until they submit some input (non-empty).  \n",
    "\n",
    "Once the user gives input with characters use the input in calling the str_analysis() function.\n",
    "\n",
    "### Additional Details\n",
    "In the body of the str_analysis() function:\n",
    "- Check `if` string is digits  \n",
    "  - if digits: convert to `int` and check `if` greater than 99  \n",
    "    - if greater than 99 print a message about a \"big number\"  \n",
    "    - if not greater than 99 print message about \"small number\"  \n",
    "  - check if string isalpha then (since not digits)\n",
    "    - if isalpha print message about being all alpha\n",
    "  - if not isalpha print a message about being neither all alpha nor all digit  \n",
    "    \n",
    "call the function with a string from user input \n",
    "- Run and test your code before submitting"
   ]
  },
  {
   "cell_type": "code",
   "execution_count": 36,
   "metadata": {},
   "outputs": [
    {
     "name": "stdout",
     "output_type": "stream",
     "text": [
      "[CJ HUDSON], enter word or integer: hi\n"
     ]
    },
    {
     "name": "stdout",
     "output_type": "stream",
     "text": [
      "\"hi\" is all alphabetical characters!\n"
     ]
    },
    {
     "name": "stdout",
     "output_type": "stream",
     "text": [
      "[CJ HUDSON], enter word or integer: ji\n"
     ]
    },
    {
     "name": "stdout",
     "output_type": "stream",
     "text": [
      "\"ji\" is all alphabetical characters!\n"
     ]
    },
    {
     "name": "stdout",
     "output_type": "stream",
     "text": [
      "[CJ HUDSON], enter word or integer: ko\n"
     ]
    },
    {
     "name": "stdout",
     "output_type": "stream",
     "text": [
      "\"ko\" is all alphabetical characters!\n"
     ]
    },
    {
     "name": "stdout",
     "output_type": "stream",
     "text": [
      "[CJ HUDSON], enter word or integer: 9\n"
     ]
    },
    {
     "name": "stdout",
     "output_type": "stream",
     "text": [
      "9 is a smaller number than expected!\n"
     ]
    },
    {
     "name": "stdout",
     "output_type": "stream",
     "text": [
      "[CJ HUDSON], enter word or integer: 000\n"
     ]
    },
    {
     "name": "stdout",
     "output_type": "stream",
     "text": [
      "000 is a smaller number than expected!\n"
     ]
    },
    {
     "name": "stdout",
     "output_type": "stream",
     "text": [
      "[CJ HUDSON], enter word or integer: 999\n"
     ]
    },
    {
     "name": "stdout",
     "output_type": "stream",
     "text": [
      "999 is a pretty big number!\n"
     ]
    },
    {
     "name": "stdout",
     "output_type": "stream",
     "text": [
      "[CJ HUDSON], enter word or integer: hiiio9\n"
     ]
    },
    {
     "name": "stdout",
     "output_type": "stream",
     "text": [
      "invalid input, input contains multiple character types\n"
     ]
    },
    {
     "name": "stdout",
     "output_type": "stream",
     "text": [
      "[CJ HUDSON], enter word or integer: \n"
     ]
    },
    {
     "name": "stdout",
     "output_type": "stream",
     "text": [
      "None\n"
     ]
    }
   ],
   "source": [
    "# [ ] create, call and test the str_analysis() function  \n",
    "def str_analysis(insert):\n",
    "    while True: \n",
    "        insert = input(\"[CJ HUDSON], enter word or integer:\")\n",
    "        if insert.isdigit():\n",
    "            if int(insert) > 99:\n",
    "                print(str(insert) + \" is a pretty big number!\")\n",
    "            elif int(insert) < 99:\n",
    "                print( str(insert) + \" is a smaller number than expected!\")\n",
    "            else:\n",
    "                print(str(insert) + \" is equal to 99!\")\n",
    "        elif insert.isalpha():\n",
    "            print(\"\\\"\" + insert + \"\\\" is all alphabetical characters!\")\n",
    "        elif insert == \"\":\n",
    "            break\n",
    "        else:\n",
    "            print( \"invalid input, input contains multiple character types\")\n",
    "\n",
    "print(str_analysis(insert))\n",
    "\n",
    "\n",
    "\n",
    "\n"
   ]
  },
  {
   "cell_type": "markdown",
   "metadata": {},
   "source": [
    "Submit this by creating a python file (.py) and submitting it in D2L. Be sure to test that it works."
   ]
  },
  {
   "cell_type": "code",
   "execution_count": null,
   "metadata": {},
   "outputs": [],
   "source": []
  }
 ],
 "metadata": {
  "kernelspec": {
   "display_name": "Python 3 (ipykernel)",
   "language": "python",
   "name": "python3"
  },
  "language_info": {
   "codemirror_mode": {
    "name": "ipython",
    "version": 3
   },
   "file_extension": ".py",
   "mimetype": "text/x-python",
   "name": "python",
   "nbconvert_exporter": "python",
   "pygments_lexer": "ipython3",
   "version": "3.13.7"
  }
 },
 "nbformat": 4,
 "nbformat_minor": 4
}
