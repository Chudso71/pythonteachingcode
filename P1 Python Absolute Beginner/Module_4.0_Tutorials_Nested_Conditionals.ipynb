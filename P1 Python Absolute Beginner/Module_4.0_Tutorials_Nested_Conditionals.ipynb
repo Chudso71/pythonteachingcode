{
 "cells": [
  {
   "cell_type": "markdown",
   "metadata": {},
   "source": [
    "# P1M4: Absolute Beginner Module 4: Nested Ifs, While Loops\n",
    "## Nested Conditionals\n",
    "-  Nested Conditionals  \n",
    "- Escape Sequence print formatting \"\\\\\"\n",
    "\n",
    "><font size=\"5\" color=\"#00A0B2\"  face=\"verdana\"> <B>Student will be able to</B></font>\n",
    "- create nested conditional logic in code  \n",
    "- format print output using escape \"\\\\\" sequence "
   ]
  },
  {
   "cell_type": "markdown",
   "metadata": {},
   "source": [
    "# &nbsp;\n",
    "<font size=\"6\" color=\"#00A0B2\"  face=\"verdana\"> <B>Concepts</B></font>\n",
    "## nested conditionals\n",
    "\n",
    "[![view video](extras/green-play-button.svg)](https://youtu.be/BafLWo66zUE)\n",
    "\n",
    "### Making a sandwich\n",
    "Taking a sandwich order starts with sandwich choices:\n",
    "> **Cheese or Veggie special?**  \n",
    "if the response is **\"Cheese\"** \"nest\" a sub ask:  \n",
    ">> **Manchego or Cheddar?**  \n"
   ]
  },
  {
   "cell_type": "markdown",
   "metadata": {},
   "source": [
    "\n",
    "<font size=\"4\" color=\"#00A0B2\"  face=\"verdana\"> <B>Examples</B></font>\n",
    "> ***TIP:*** click in input box before typing input "
   ]
  },
  {
   "cell_type": "code",
   "execution_count": null,
   "metadata": {},
   "outputs": [],
   "source": [
    "# simplified example\n",
    "# [ ] review the code then run and following the flowchart paths\n",
    "\n",
    "# ***TIP:*** click in input box before typing\n",
    "\n",
    "sandwich_type = input('\"c\" for Cheese or \"v\" for Veggie Special: ')\n",
    "\n",
    "if sandwich_type.lower() == \"c\":\n",
    "    # select cheese type\n",
    "    cheese_type = input('\"c\" for Cheddar or \"m\" for Manchego: ')\n",
    "    \n",
    "    if cheese_type.lower() == \"c\":\n",
    "        print(\"Here is your Cheddar Cheese sandwich\")\n",
    "    else:\n",
    "        print(\"Here is your Manchego Cheese sandwich\") \n",
    "elif sandwich_type.lower() == \"v\":\n",
    "    print(\"Here is your Veggie Special\")\n",
    "else:\n",
    "    print(\"Sorry. We only have cheese and veggie.\")"
   ]
  },
  {
   "cell_type": "code",
   "execution_count": null,
   "metadata": {},
   "outputs": [],
   "source": [
    "# full example: handling some invalid input and elif statement\n",
    "# [ ] review the code then run following the flowchart paths including **invalid responses** like \"xyz123\"\n",
    "\n",
    "# ***TIP:*** click in input box before typing\n",
    "\n",
    "print(\"Hi, welcome to the sandwich shop.  Please select a sandwich.\")\n",
    "sandwich_type = input('\"c\" for Cheese or \"v\" for Veggie Special: ')\n",
    "# select sandwich type sandwich_type = input('\"c\" for Cheese or \"v\" for Veggie Special: ')\n",
    "print()\n",
    "    \n",
    "if sandwich_type.lower() == \"c\":\n",
    "    # select cheese type\n",
    "    print(\"Please select a cheese.\")\n",
    "    cheese_type = input('\"c\" for Cheddar or \"m\" for Manchego: ')\n",
    "    print()\n",
    "    \n",
    "    if cheese_type.lower() == \"c\":\n",
    "        print(\"Here is your Cheddar Cheese sandwich.  Thank you.\")\n",
    "    elif cheese_type.lower() == \"m\":\n",
    "        print(\"Here is your Manchego Cheese sandwich.  Thank you.\") \n",
    "    else:\n",
    "        print(\"Sorry, we don't have\", cheese_type, \"choice today.\")\n",
    "\n",
    "elif sandwich_type.lower() == \"v\":\n",
    "    print(\"Here is your Veggie Special. Thank you.\")\n",
    "        \n",
    "else:\n",
    "    print(\"Sorry, we don't have\", sandwich_type, \"choice today.\")\n",
    "print()\n",
    "print(\"Goodbye!\")\n"
   ]
  },
  {
   "cell_type": "markdown",
   "metadata": {},
   "source": [
    "\n",
    "<font size=\"6\" color=\"#B24C00\"  face=\"verdana\"> <B>Task 1</B></font>\n",
    "## Nested `if` \n",
    "### [ ] Program: Say \"Hello\"\n",
    "- using nested **`if`** check if it is morning, if not evening?, if not say hello\n",
    " "
   ]
  },
  {
   "cell_type": "code",
   "execution_count": 19,
   "metadata": {},
   "outputs": [
    {
     "name": "stdout",
     "output_type": "stream",
     "text": [
      "Hey hope your doing well\n"
     ]
    },
    {
     "name": "stdout",
     "output_type": "stream",
     "text": [
      "Are you reading this in the morning or evening morning\n"
     ]
    },
    {
     "name": "stdout",
     "output_type": "stream",
     "text": [
      "Is the current time ending in am?\n"
     ]
    },
    {
     "name": "stdout",
     "output_type": "stream",
     "text": [
      "type \"yes\" or \"no\" no\n"
     ]
    },
    {
     "name": "stdout",
     "output_type": "stream",
     "text": [
      "sounds to me that your reading this in the evening\n"
     ]
    }
   ],
   "source": [
    "# [ ] Say \"Hello\" with nested if\n",
    "# [ ] Challenge: handle input other than y/n\n",
    "print(\"Hey hope your doing well\")\n",
    "m_or_e = input(\"Are you reading this in the morning or evening\")\n",
    "\n",
    "if m_or_e.lower() == \"morning\":\n",
    "    print(\"Is the current time ending in am?\")\n",
    "    time = input('type \"yes\" or \"no\"')\n",
    "    if time == 'yes':\n",
    "        print(\"Good morning my friend\")\n",
    "    elif time == 'no':\n",
    "        print(\"sounds to me that your reading this in the evening\")\n",
    "    else:\n",
    "        print('please choose either \"yes\" or \"no\"')\n",
    "elif m_or_e.lower() == \"evening\":\n",
    "      print(\"Is the current time ending in pm?\")\n",
    "      time = input('type \"yes\" or \"no\"')\n",
    "      if time == 'yes':\n",
    "            print(\"Good evening my friend\")\n",
    "      elif time == 'no':\n",
    "            print(\"sounds to me that your reading this in the morning\")\n",
    "      else:\n",
    "            print('please choose either \"yes\" or \"no\"')\n",
    "\n",
    "else:\n",
    "    print('please select either \"morning\" or \"evening\"')\n",
    "\n",
    "\n"
   ]
  },
  {
   "cell_type": "markdown",
   "metadata": {},
   "source": [
    "\n",
    "<font size=\"6\" color=\"#B24C00\"  face=\"verdana\"> <B>Task 2</B></font>\n",
    "## Nested `if` - testing for `False`\n",
    "### Program:  [ ] 3 Guesses\n",
    "- use nested if statements complete the flowchart code\n",
    "- create a **`birds`** string variable with the names of 1, 2, 3 or more birds to make it easier\n",
    "- get **`bird_guess`** input and use **`bird_guess in bird_names`** to generate Boolean True/False\n",
    "- if the the guess is wrong (**`False`**) create a sub test until the user has had 3 guesses\n",
    "  "
   ]
  },
  {
   "cell_type": "code",
   "execution_count": 15,
   "metadata": {},
   "outputs": [
    {
     "name": "stdout",
     "output_type": "stream",
     "text": [
      "Guess a bird name l\n",
      "Sorry thats wrong try it again oo\n",
      "Sorry thats wrong try it again k\n"
     ]
    },
    {
     "name": "stdout",
     "output_type": "stream",
     "text": [
      "sorry you've ran out of tries, GAME OVER\n"
     ]
    }
   ],
   "source": [
    "# [ ] Create the \"Guess the bird\" program \n",
    "birds = [\"robin, pigeon, hawk, bluejay\"]\n",
    "bird_guess = input(\"Guess a bird name\")\n",
    "if bird_guess.lower() in birds:\n",
    "    print(\"Nice you got it on your first try\")\n",
    "else:\n",
    "    guess_2 = input(\"Sorry thats wrong try it again\")\n",
    "    if guess_2.lower() in birds:\n",
    "        print(\"Nice you got it on your second try\")\n",
    "    else:\n",
    "         guess_3 = input(\"Sorry thats wrong try it again\")\n",
    "         if guess_3.lower() in birds:\n",
    "            print(\"Nice you got it on your third try\")\n",
    "         else:\n",
    "             print(\"sorry you've ran out of tries, GAME OVER\")\n"
   ]
  },
  {
   "cell_type": "markdown",
   "metadata": {},
   "source": [
    "# Module 4 Part 2\n",
    "## Nested Conditionals\n",
    "- nested conditionals  \n",
    "- **print formatting with the (\\) escape sequence** \n",
    "\n",
    "><font size=\"5\" color=\"#00A0B2\"  face=\"verdana\"> <B>Student will be able to</B></font>\n",
    "- create nested conditional logic in code  \n",
    "- **print format print using escape sequence (\\)**"
   ]
  },
  {
   "cell_type": "markdown",
   "metadata": {
    "collapsed": true,
    "jupyter": {
     "outputs_hidden": true
    }
   },
   "source": [
    "\n",
    "# &nbsp;\n",
    "<font size=\"6\" color=\"#00A0B2\"  face=\"verdana\"> <B>Concept</B></font>\n",
    "## formatting with escape sequences\n",
    "\n",
    "### Escape Sequences\n",
    "- escape sequences all start with a backslash (**`\\`**) \n",
    "- escape sequences can be used to display characters in python reserved for formatting\n",
    "  - **`\\\\`** &nbsp; Backslash (**`\\`**)  \n",
    "  - **`\\'`** &nbsp; Single quote (**'**)  \n",
    "  - **`\\\"`** &nbsp; Double quote (**\"**)  \n",
    "\n",
    "\n",
    "- escape sequences are part of special formatting charcters\\n    Linefeed \n",
    "  - **`\\t`** &nbsp; Tab\n",
    "  - **`\\n`** &nbsp; return or newline\n",
    "\n",
    "We use escape sequences in strings - usually with `print()` statements "
   ]
  },
  {
   "cell_type": "markdown",
   "metadata": {},
   "source": [
    "\n",
    "<font size=\"4\" color=\"#00A0B2\"  face=\"verdana\"> <B>Examples</B></font>  "
   ]
  },
  {
   "cell_type": "code",
   "execution_count": 16,
   "metadata": {},
   "outputs": [
    {
     "name": "stdout",
     "output_type": "stream",
     "text": [
      "Hello World!\n",
      "I am formatting print \n"
     ]
    }
   ],
   "source": [
    "# review and run example using \\n (new line)\n",
    "print('Hello World!\\nI am formatting print ')"
   ]
  },
  {
   "cell_type": "code",
   "execution_count": 17,
   "metadata": {},
   "outputs": [
    {
     "name": "stdout",
     "output_type": "stream",
     "text": [
      "STUDENT NAME\t\tAGE\n",
      "Hiroto Yamaguchi \t17\n"
     ]
    }
   ],
   "source": [
    "# review and run code using \\t (tab)\n",
    "student_age = 17\n",
    "student_name = \"Hiroto Yamaguchi\"\n",
    "print(\"STUDENT NAME\\t\\tAGE\")\n",
    "print(student_name,'\\t' + str(student_age))"
   ]
  },
  {
   "cell_type": "code",
   "execution_count": 22,
   "metadata": {},
   "outputs": [
    {
     "name": "stdout",
     "output_type": "stream",
     "text": [
      "\"quotes in quotes\"\n",
      "I've said \"save your notebook,\" so let's do it!\n",
      "for a newline use \\n\n"
     ]
    }
   ],
   "source": [
    "# review and run code \n",
    "# using \\\" and \\' (escaped quotes)\n",
    "print(\"\\\"quotes in quotes\\\"\")\n",
    "print(\"I\\'ve said \\\"save your notebook,\\\" so let\\'s do it!\")\n",
    "\n",
    "# using  \\\\ (escaped backslash)\n",
    "print(\"for a newline use \\\\n\")"
   ]
  },
  {
   "cell_type": "markdown",
   "metadata": {},
   "source": [
    "\n",
    "<font size=\"6\" color=\"#B24C00\"  face=\"verdana\"> <B>Task 3</B></font>  \n",
    "Format using backslash (**`\\`**) escape sequences"
   ]
  },
  {
   "cell_type": "code",
   "execution_count": 34,
   "metadata": {},
   "outputs": [
    {
     "name": "stdout",
     "output_type": "stream",
     "text": [
      "\"\\\\\\WARNING!///\"\n"
     ]
    },
    {
     "name": "stderr",
     "output_type": "stream",
     "text": [
      "<>:2: SyntaxWarning: invalid escape sequence '\\W'\n",
      "<>:2: SyntaxWarning: invalid escape sequence '\\W'\n",
      "/var/folders/gn/jn84914x59z7xnfx_zq5kjm40000gn/T/ipykernel_2138/4069815931.py:2: SyntaxWarning: invalid escape sequence '\\W'\n",
      "  print(\"\\\"\\\\\\\\\\WARNING!///\\\"\")\n"
     ]
    }
   ],
   "source": [
    "# [ ] print \"\\\\\\WARNING!///\"\n",
    "print(\"\\\"\\\\\\\\\\WARNING!///\\\"\")\n",
    "\n"
   ]
  },
  {
   "cell_type": "code",
   "execution_count": 27,
   "metadata": {},
   "outputs": [
    {
     "name": "stdout",
     "output_type": "stream",
     "text": [
      "\"What's that?\" isn't a specific question.\n"
     ]
    }
   ],
   "source": [
    "# [ ] print output that is exactly (with quotes): \"What's that?\" isn't a specific question.\n",
    "print(\"\\\"What's that?\\\" isn't a specific question.\")\n"
   ]
  },
  {
   "cell_type": "code",
   "execution_count": null,
   "metadata": {},
   "outputs": [],
   "source": [
    "# [ ] from 1 print statement output the text commented below using no spaces\n",
    "# One     Two     Three\n",
    "# Four    Five    Six\n",
    "print(\"One\\t Two\\t Three \\nFour\\t Five\\t Six\\t\")\n"
   ]
  },
  {
   "cell_type": "markdown",
   "metadata": {},
   "source": [
    "\n",
    "<font size=\"6\" color=\"#B24C00\"  face=\"verdana\"> <B>Task 4</B></font>\n",
    "## Program: `pre_word()` Function\n",
    "Function has a single string parameter that it checks for a single word starting with \"pre\"\n",
    "- Check if word starts with \"pre\"\n",
    "- Check if word .isalpha() \n",
    "- if all checks pass: return **`True`**\n",
    "- if any checks fail: return **`False`**\n",
    "- **Test** \n",
    "  - get input using the directions: *enter a word that starts with \"pre\": *\n",
    "  - call pre_word() with the input string\n",
    "  - test **if** return value is **`False`** and print message explaining not a \"pre\" word \n",
    "  - **else** print message explaining is a valid \"pre\" word"
   ]
  },
  {
   "cell_type": "code",
   "execution_count": 54,
   "metadata": {},
   "outputs": [
    {
     "name": "stdout",
     "output_type": "stream",
     "text": [
      "Please enter a word that starts with \"pre\":  l\n"
     ]
    },
    {
     "name": "stdout",
     "output_type": "stream",
     "text": [
      "That is not a valid \"pre\" word\n"
     ]
    }
   ],
   "source": [
    "# [ ] create and test pre_word()\n",
    "\n",
    "def pre_word(test_word):\n",
    "    if test_word.startswith(\"pre\"):\n",
    "        if test_word.isalpha:\n",
    "            return True\n",
    "        else:\n",
    "            return False \n",
    "    else:\n",
    "        return False\n",
    "result = pre_word(input(\"Please enter a word that starts with \\\"pre\\\": \"))\n",
    "if result:\n",
    "    print(\"Nice!\")\n",
    "else:\n",
    "    print(\"That is not a valid \\\"pre\\\" word\")\n",
    "\n",
    "                  \n",
    "\n",
    "        \n"
   ]
  },
  {
   "cell_type": "code",
   "execution_count": null,
   "metadata": {},
   "outputs": [],
   "source": []
  },
  {
   "cell_type": "markdown",
   "metadata": {},
   "source": [
    "\n",
    "<font size=\"6\" color=\"#B24C00\"  face=\"verdana\"> <B>Task 5</B></font>\n",
    "## Fix the Errors"
   ]
  },
  {
   "cell_type": "code",
   "execution_count": 57,
   "metadata": {},
   "outputs": [
    {
     "name": "stdout",
     "output_type": "stream",
     "text": [
      "Hello\n",
      "World!\n"
     ]
    }
   ],
   "source": [
    "# [ ] review, run, fix\n",
    "print(\"Hello\\nWorld!\")\n",
    "\n"
   ]
  },
  {
   "cell_type": "markdown",
   "metadata": {},
   "source": [
    "# Module 4 Part 3\n",
    "## `while()` loops & increments\n",
    "- **while `True`  or forever loops**\n",
    "- **incrementing in loops**\n",
    "- Boolean operators in while loops\n",
    "\n",
    "\n",
    "-----  \n",
    "\n",
    "><font size=\"5\" color=\"#00A0B2\"  face=\"verdana\"> <B>Student will be able to</B></font>\n",
    "- **create forever loops using `while` and `break`**\n",
    "- **use incrementing variables in a while loop**\n",
    "- control while loops using Boolean operators"
   ]
  },
  {
   "cell_type": "markdown",
   "metadata": {},
   "source": [
    "# &nbsp;\n",
    "<font size=\"6\" color=\"#00A0B2\"  face=\"verdana\"> <B>Concepts</B></font>\n",
    "## `while True:`\n",
    "### Using the 'while True:' loop\n",
    "**`while True:`** is known as the **forever loop** because it ...loops forever  \n",
    "\n",
    "Using the **`while True:`** statement results in a loop that continues to run forever   \n",
    "...or, until the loop is interrupted, such as with a **`break`** statement  \n",
    "\n",
    "## `break`\n",
    "### in a `while` loop, causes code flow to exit the loop  \n",
    "a **conditional** can implement **`break`** to exit a **`while True`** loop  "
   ]
  },
  {
   "cell_type": "markdown",
   "metadata": {},
   "source": [
    "\n",
    "<font size=\"4\" color=\"#00A0B2\"  face=\"verdana\"> <B>Examples</B></font>\n",
    "## `while True` loops forever unless a `break` statement is used  "
   ]
  },
  {
   "cell_type": "code",
   "execution_count": 58,
   "metadata": {},
   "outputs": [
    {
     "name": "stdout",
     "output_type": "stream",
     "text": [
      "write forever, unless there is a \"break\"\n"
     ]
    }
   ],
   "source": [
    "# Review and run code\n",
    "# this example never loops because the break has no conditions\n",
    "while True:\n",
    "    print('write forever, unless there is a \"break\"')\n",
    "    break"
   ]
  },
  {
   "cell_type": "code",
   "execution_count": null,
   "metadata": {},
   "outputs": [],
   "source": [
    "# [ ] review the NUMBER GUESS code then run - Q. what cause the break statement to run?\n",
    "number_guess = \"0\"\n",
    "secret_number = \"5\"\n",
    "\n",
    "while True:\n",
    "    number_guess = input(\"guess the number 1 to 5: \")\n",
    "    if number_guess == secret_number:\n",
    "        print(\"Yes\", number_guess,\"is correct!\\n\")\n",
    "        break\n",
    "    else:\n",
    "        print(number_guess,\"is incorrect\\n\")"
   ]
  },
  {
   "cell_type": "code",
   "execution_count": 59,
   "metadata": {},
   "outputs": [
    {
     "name": "stdout",
     "output_type": "stream",
     "text": [
      "Enter weather (sunny, rainy, snowy, or quit):  p\n"
     ]
    },
    {
     "name": "stdout",
     "output_type": "stream",
     "text": [
      "\n",
      "Sorry, not sure what to suggest for p\n",
      "\n"
     ]
    },
    {
     "name": "stdout",
     "output_type": "stream",
     "text": [
      "Enter weather (sunny, rainy, snowy, or quit):  j\n"
     ]
    },
    {
     "name": "stdout",
     "output_type": "stream",
     "text": [
      "\n",
      "Sorry, not sure what to suggest for j\n",
      "\n"
     ]
    },
    {
     "name": "stdout",
     "output_type": "stream",
     "text": [
      "Enter weather (sunny, rainy, snowy, or quit):  j\n"
     ]
    },
    {
     "name": "stdout",
     "output_type": "stream",
     "text": [
      "\n",
      "Sorry, not sure what to suggest for j\n",
      "\n"
     ]
    },
    {
     "name": "stdout",
     "output_type": "stream",
     "text": [
      "Enter weather (sunny, rainy, snowy, or quit):  j\n"
     ]
    },
    {
     "name": "stdout",
     "output_type": "stream",
     "text": [
      "\n",
      "Sorry, not sure what to suggest for j\n",
      "\n"
     ]
    },
    {
     "name": "stdout",
     "output_type": "stream",
     "text": [
      "Enter weather (sunny, rainy, snowy, or quit):  n\n"
     ]
    },
    {
     "name": "stdout",
     "output_type": "stream",
     "text": [
      "\n",
      "Sorry, not sure what to suggest for n\n",
      "\n"
     ]
    },
    {
     "name": "stdout",
     "output_type": "stream",
     "text": [
      "Enter weather (sunny, rainy, snowy, or quit):  snowy\n"
     ]
    },
    {
     "name": "stdout",
     "output_type": "stream",
     "text": [
      "\n",
      "Wear a warm coat and hat\n"
     ]
    }
   ],
   "source": [
    "# [ ] review WHAT TO WEAR code then run testing different inputs\n",
    "while True:\n",
    "    weather = input(\"Enter weather (sunny, rainy, snowy, or quit): \") \n",
    "    print()\n",
    "\n",
    "    if weather.lower() == \"sunny\":\n",
    "        print(\"Wear a t-shirt and sunscreen\")\n",
    "        break\n",
    "    elif weather.lower() == \"rainy\":\n",
    "        print(\"Bring an umbrella and boots\")\n",
    "        break\n",
    "    elif weather.lower() == \"snowy\":\n",
    "        print(\"Wear a warm coat and hat\")\n",
    "        break\n",
    "    elif weather.lower().startswith(\"q\"):\n",
    "        print('\"quit\" detected, exiting')\n",
    "        break\n",
    "    else:\n",
    "        print(\"Sorry, not sure what to suggest for\", weather +\"\\n\")"
   ]
  },
  {
   "cell_type": "markdown",
   "metadata": {},
   "source": [
    "\n",
    "<font size=\"6\" color=\"#B24C00\"  face=\"verdana\"> <B>Task 6</B></font>\n",
    "## `while True` \n",
    "### [ ] Program: Get a name forever ...or until done\n",
    "- create variable, familar_name, and assign it an empty string (**`\"\"`**)\n",
    "- use **`while True:`**\n",
    "- ask for user input for familar_name (common name friends/family use) \n",
    "- keep asking until given a non-blank/non-space alphabetical name is received (Hint: Boolean string test)\n",
    "- break loop and print a greeting using familar_name"
   ]
  },
  {
   "cell_type": "code",
   "execution_count": 70,
   "metadata": {},
   "outputs": [
    {
     "name": "stdout",
     "output_type": "stream",
     "text": [
      "Enter a familiar name: ;\n"
     ]
    },
    {
     "name": "stdout",
     "output_type": "stream",
     "text": [
      "Hi ;\n"
     ]
    }
   ],
   "source": [
    "# [ ] create Get Name program\n",
    "familar_name = \"\"\n",
    "\n",
    "while True:\n",
    "    \n",
    "    familiar_name = input(\"Enter a familiar name:\")\n",
    "    if familiar_name != \"\":\n",
    "        break\n",
    "print(\"Hi\", familiar_name)\n",
    "\n",
    "    \n"
   ]
  },
  {
   "cell_type": "markdown",
   "metadata": {
    "collapsed": true,
    "jupyter": {
     "outputs_hidden": true
    }
   },
   "source": [
    "# &nbsp;\n",
    "<font size=\"6\" color=\"#00A0B2\"  face=\"verdana\"> <B>Concept</B></font>\n",
    "## Incrementing a variable\n",
    "## Incrementing\n",
    "### `votes = votes + 1` &nbsp; &nbsp; or &nbsp;  `votes += 1`\n",
    "\n",
    "## Decrementing \n",
    "### `votes = votes - 1` &nbsp; &nbsp; or &nbsp; `votes -= 1`"
   ]
  },
  {
   "cell_type": "markdown",
   "metadata": {},
   "source": [
    "\n",
    "<font size=\"4\" color=\"#00A0B2\"  face=\"verdana\"> <B>Examples</B></font>\n",
    "  \n"
   ]
  },
  {
   "cell_type": "code",
   "execution_count": 73,
   "metadata": {},
   "outputs": [
    {
     "name": "stdout",
     "output_type": "stream",
     "text": [
      "3\n",
      "4\n",
      "6\n"
     ]
    }
   ],
   "source": [
    "# [ ] review and run example\n",
    "votes = 3\n",
    "print(votes)\n",
    "\n",
    "votes = votes + 1\n",
    "print(votes)\n",
    "\n",
    "votes += 2\n",
    "print(votes)"
   ]
  },
  {
   "cell_type": "code",
   "execution_count": 74,
   "metadata": {},
   "outputs": [
    {
     "name": "stdout",
     "output_type": "stream",
     "text": [
      "6\n",
      "5\n"
     ]
    }
   ],
   "source": [
    "print(votes)\n",
    "\n",
    "votes -= 1\n",
    "print(votes)"
   ]
  },
  {
   "cell_type": "code",
   "execution_count": null,
   "metadata": {},
   "outputs": [],
   "source": [
    "# [ ] review the SEAT COUNT code then run \n",
    "\n",
    "seat_count = 0\n",
    "while True:\n",
    "    print(\"seat count:\",seat_count)\n",
    "    seat_count = seat_count + 1\n",
    "\n",
    "    if seat_count > 4:\n",
    "        break"
   ]
  },
  {
   "cell_type": "code",
   "execution_count": null,
   "metadata": {},
   "outputs": [],
   "source": [
    "# [ ] review the SEAT TYPE COUNT code then run entering: hard, soft, medium and exit\n",
    "\n",
    "# initialize variables\n",
    "seat_count = 0\n",
    "soft_seats = 0\n",
    "hard_seats = 0\n",
    "num_seats = 4\n",
    "\n",
    "# loops tallying seats using soft pads vs hard, until seats full or user \"exits\"\n",
    "while True:\n",
    "    seat_type = input('enter seat type of \"hard\",\"soft\" or \"exit\" (to finish): ')\n",
    "    \n",
    "    if seat_type.lower().startswith(\"e\"):\n",
    "        print()\n",
    "        break\n",
    "    elif seat_type.lower() == \"hard\":\n",
    "        hard_seats += 1\n",
    "    elif seat_type.lower() == \"soft\":\n",
    "        soft_seats += 1\n",
    "    else:\n",
    "        print(\"invalid entry: counted as hard\")\n",
    "        hard_seats += 1  \n",
    "    seat_count += 1\n",
    "    if seat_count >= num_seats:\n",
    "        print(\"\\nseats are full\")\n",
    "        break\n",
    "        \n",
    "print(seat_count,\"Seats Total: \",hard_seats,\"hard and\",soft_seats,\"soft\" )"
   ]
  },
  {
   "cell_type": "markdown",
   "metadata": {},
   "source": [
    "\n",
    "<font size=\"6\" color=\"#B24C00\"  face=\"verdana\"> <B>Task 7</B></font>\n",
    "## incrementing in a `while()` loop\n",
    "### Program: Shirt Count\n",
    "- enter a sizes (S, M, L)\n",
    "- tally the count of each size\n",
    "- input \"exit\" when finished\n",
    "- report out the purchase of each shirt size  \n"
   ]
  },
  {
   "cell_type": "code",
   "execution_count": 2,
   "metadata": {},
   "outputs": [
    {
     "name": "stdout",
     "output_type": "stream",
     "text": [
      "Enter the size of your shirt for purchase(S,M,L): \n",
      "Type \"exit\" when done. s\n",
      "Enter the size of your shirt for purchase(S,M,L): \n",
      "Type \"exit\" when done. m\n",
      "Enter the size of your shirt for purchase(S,M,L): \n",
      "Type \"exit\" when done. m\n",
      "Enter the size of your shirt for purchase(S,M,L): \n",
      "Type \"exit\" when done. exit\n"
     ]
    },
    {
     "name": "stdout",
     "output_type": "stream",
     "text": [
      "You've bought 1 small shirts, 2 medium shirts, and 0 large shirts\n"
     ]
    }
   ],
   "source": [
    "# [ ] Create the Shirt Count program, run tests\n",
    "S_shirt = 0\n",
    "M_shirt = 0\n",
    "L_shirt = 0\n",
    "\n",
    "while True:\n",
    "    size = input(\"Enter the size of your shirt for purchase(S,M,L): \\nType \\\"exit\\\" when done.\")\n",
    "    if size.upper() == \"S\":\n",
    "        S_shirt += 1\n",
    "    elif size.upper() == \"M\":\n",
    "        M_shirt += 1\n",
    "    elif size.upper() == \"L\":\n",
    "        L_shirt += 1\n",
    "    elif size.lower() == \"exit\":\n",
    "        break\n",
    "    else:\n",
    "        print(\"Sorry thats not a valid shirt size\")\n",
    "print(\"You've bought\",S_shirt,\"small shirts,\",M_shirt,\"medium shirts, and\",L_shirt,\"large shirts\")\n",
    "    \n",
    "        \n",
    "        \n"
   ]
  },
  {
   "cell_type": "markdown",
   "metadata": {},
   "source": [
    "### CHALLENGE: Shirt Register\n",
    "Update the **Shirt Count** program to calculate cost\n",
    "- use shirt cost (S = 6, M = 7, L = 8)\n",
    "- to calculate and report the subtotal cost for each size \n",
    "- to calculate and report the total cost of all shirts"
   ]
  },
  {
   "cell_type": "code",
   "execution_count": 1,
   "metadata": {},
   "outputs": [
    {
     "ename": "NameError",
     "evalue": "name 'S_shirt' is not defined",
     "output_type": "error",
     "traceback": [
      "\u001b[31m---------------------------------------------------------------------------\u001b[39m",
      "\u001b[31mNameError\u001b[39m                                 Traceback (most recent call last)",
      "\u001b[36mCell\u001b[39m\u001b[36m \u001b[39m\u001b[32mIn[1]\u001b[39m\u001b[32m, line 4\u001b[39m\n\u001b[32m      1\u001b[39m \u001b[38;5;66;03m# [ ] Create the Shirt Register program, run tests\u001b[39;00m\n\u001b[32m      3\u001b[39m Price = \u001b[32m5\u001b[39m\n\u001b[32m----> \u001b[39m\u001b[32m4\u001b[39m total = (\u001b[43mS_shirt\u001b[49m + M_shirt + L_shirt) * Price\n\u001b[32m      5\u001b[39m \u001b[38;5;28mprint\u001b[39m(\u001b[33m\"\u001b[39m\u001b[33mYour total is\u001b[39m\u001b[33m\"\u001b[39m, total)\n",
      "\u001b[31mNameError\u001b[39m: name 'S_shirt' is not defined"
     ]
    }
   ],
   "source": [
    "# [ ] Create the Shirt Register program, run tests\n",
    "\n",
    "Price = 5\n",
    "total = (S_shirt + M_shirt + L_shirt) * Price\n",
    "print(\"Your total is\", total)"
   ]
  },
  {
   "cell_type": "markdown",
   "metadata": {},
   "source": [
    "# Module 4 Part 4\n",
    "## `while()` loops & increments\n",
    "- while `True`  or forever loops\n",
    "- incrementing in loops\n",
    "- **Boolean operators in while loops**\n",
    "\n",
    "\n",
    "-----  \n",
    "\n",
    "><font size=\"5\" color=\"#00A0B2\"  face=\"verdana\"> <B>Student will be able to</B></font>\n",
    "- create forever loops using `while` and `break`\n",
    "- use incrementing variables in a while loop\n",
    "- **control while loops using Boolean operators**"
   ]
  },
  {
   "cell_type": "markdown",
   "metadata": {
    "collapsed": true,
    "jupyter": {
     "outputs_hidden": true
    }
   },
   "source": [
    "# &nbsp;\n",
    "<font size=\"6\" color=\"#00A0B2\"  face=\"verdana\"> <B>Concept</B></font>\n",
    "## `while` with Boolean comparison\n",
    "## `while` with Boolean comparison operator\n",
    "### `while x < 5:`\n",
    "with increment we used  **`break`** when count becomes greater than some number  \n",
    "\n",
    "The same result can be achieved by using **`while x < 5:`**"
   ]
  },
  {
   "cell_type": "markdown",
   "metadata": {},
   "source": [
    "\n",
    "<font size=\"4\" color=\"#00A0B2\"  face=\"verdana\"> <B>Examples</B></font>\n",
    "  \n"
   ]
  },
  {
   "cell_type": "code",
   "execution_count": 99,
   "metadata": {},
   "outputs": [
    {
     "name": "stdout",
     "output_type": "stream",
     "text": [
      "6 !\n",
      "5 !\n",
      "4 !\n",
      "3 !\n",
      "2 !\n",
      "\n",
      "IGNITION!\n"
     ]
    }
   ],
   "source": [
    "# review and run GREET COUNT\n",
    "greet_count = 6\n",
    "\n",
    "# loop while count is greater than 0\n",
    "while greet_count > 1:\n",
    "    print(greet_count, \"!\")\n",
    "    greet_count -= 1\n",
    "print(\"\\nIGNITION!\")"
   ]
  },
  {
   "cell_type": "markdown",
   "metadata": {},
   "source": [
    "\n",
    "<font size=\"6\" color=\"#B24C00\"  face=\"verdana\"> <B>Task 8</B></font>\n",
    "## `while` with comparison operator \n",
    "### Program: Animal Names\n",
    "- Use **`while`** to get the user input, animal_name, of 4 animals \n",
    "  - use a counter, num_animals, in the while loop condition\n",
    "  - append the names to a string variable, all_animals\n",
    "  - User can exit early by typing \"exit\" (check if animal_name is \"exit\" and break)\n",
    "- when the loop finishes, print the names of all_animals\n",
    "\n",
    "-bonus: print \"no animals\" if animal_name is empty after exiting the loop\n",
    "\n",
    "**Tip:** Think about Sequence and variables that need to be initialized before the while loop"
   ]
  },
  {
   "cell_type": "code",
   "execution_count": 110,
   "metadata": {},
   "outputs": [
    {
     "name": "stdout",
     "output_type": "stream",
     "text": [
      "Name an animal: (type \"exit\" to break) h\n",
      "Name an animal: (type \"exit\" to break) e\n",
      "Name an animal: (type \"exit\" to break) ll\n",
      "Name an animal: (type \"exit\" to break) o\n"
     ]
    },
    {
     "name": "stdout",
     "output_type": "stream",
     "text": [
      " h e ll o\n"
     ]
    }
   ],
   "source": [
    "# [ ] Create the Animal Names program, run tests\n",
    "all_animals = \"\"\n",
    "num_animals = 0\n",
    "while num_animals < 4:\n",
    "    all_animals += \" \" + input(\"Name an animal: (type \\\"exit\\\" to break)\")\n",
    "    num_animals += 1\n",
    "    if all_animals.lower() == \"exit\":\n",
    "        break\n",
    "print(all_animals)\n"
   ]
  },
  {
   "cell_type": "markdown",
   "metadata": {
    "collapsed": true,
    "jupyter": {
     "outputs_hidden": true
    }
   },
   "source": [
    "# &nbsp;\n",
    "<font size=\"6\" color=\"#00A0B2\"  face=\"verdana\"> <B>Concept</B></font>\n",
    "## `while` Boolean string tests\n",
    "\n",
    "## Using `while` with a Boolean String Tests\n",
    "A while loop can be controlled by Boolean strings such as `while name.isalpha() == False:`"
   ]
  },
  {
   "cell_type": "markdown",
   "metadata": {},
   "source": [
    "\n",
    "<font size=\"4\" color=\"#00A0B2\"  face=\"verdana\"> <B>Example</B></font>"
   ]
  },
  {
   "cell_type": "code",
   "execution_count": 148,
   "metadata": {},
   "outputs": [
    {
     "name": "stdout",
     "output_type": "stream",
     "text": [
      "enter student's first (Letters only, No spaces):  u\n"
     ]
    },
    {
     "name": "stdout",
     "output_type": "stream",
     "text": [
      "\n",
      "U has been entered as first name\n"
     ]
    }
   ],
   "source": [
    "# review and run example that loops until a valid first name format is entered\n",
    "student_fname = \".\"\n",
    "while student_fname.isalpha()==False:\n",
    "    student_fname = input(\"enter student\\'s first (Letters only, No spaces): \")\n",
    "print(\"\\n\" + student_fname.title(),\"has been entered as first name\")"
   ]
  },
  {
   "cell_type": "markdown",
   "metadata": {},
   "source": [
    "\n",
    "<font size=\"6\" color=\"#B24C00\"  face=\"verdana\"> <B>Task 9</B></font>\n",
    "## Using `while` with a Boolean String\n",
    "### Program: Long Number\n",
    "#### Create variables\n",
    "- **`int_num`** and get user input **string** of only digits  \n",
    "- **`long_num`** and initialize it as an empty string  \n",
    "\n",
    "#### Create a while loop that runs as long as the input is all digits  \n",
    "\n",
    "#### Inside the while loop   \n",
    "- add **`int_num`** to the end of **`long_num`**\n",
    "- get user input for **`int_num`** again (*inside while loop this time*)  \n",
    "\n",
    "#### After the loop exits \n",
    "- print the value of **`long_num`**   "
   ]
  },
  {
   "cell_type": "code",
   "execution_count": 159,
   "metadata": {},
   "outputs": [
    {
     "name": "stdout",
     "output_type": "stream",
     "text": [
      "enter an integer 9\n",
      "enter an integer 3\n",
      "enter an integer 3\n",
      "enter an integer 3\n",
      "enter an integer 3\n",
      "enter an integer 3\n",
      "enter an integer l\n"
     ]
    },
    {
     "name": "stdout",
     "output_type": "stream",
     "text": [
      "The long number was 333339\n"
     ]
    }
   ],
   "source": [
    "# [ ] Create the program, run tests\n",
    "int_num = input(\"enter an integer\")\n",
    "long_num = \"\"\n",
    "while int_num.isdigit() == True:\n",
    "    long_num = int_num + long_num\n",
    "    int_num = input(\"enter an integer\")\n",
    "print(\"The long number was\",long_num)\n",
    "\n"
   ]
  },
  {
   "cell_type": "markdown",
   "metadata": {},
   "source": [
    "\n",
    "<font size=\"6\" color=\"#B24C00\"  face=\"verdana\"> <B>Task 10</B></font>\n",
    "## Fix the Errors\n",
    "This loop never runs\n",
    "### This is a logic error - there is no ErrorMessage, but the code *doesn't work*"
   ]
  },
  {
   "cell_type": "code",
   "execution_count": 162,
   "metadata": {},
   "outputs": [
    {
     "name": "stdout",
     "output_type": "stream",
     "text": [
      "1 x 1 = 1\n",
      "2 x 2 = 4\n",
      "3 x 3 = 9\n",
      "4 x 4 = 16\n"
     ]
    }
   ],
   "source": [
    "# [ ] review the code, run, fix the Logic error\n",
    "count = 1\n",
    "\n",
    "# loop 5 times\n",
    "while count < 5:\n",
    "    print(count, \"x\", count, \"=\", count*count)\n",
    "    count +=1\n",
    "    \n"
   ]
  },
  {
   "cell_type": "markdown",
   "metadata": {},
   "source": [
    "(c) 2017 Microsoft adapted with permission by Dominic Thomas"
   ]
  }
 ],
 "metadata": {
  "anaconda-cloud": {},
  "kernelspec": {
   "display_name": "Python 3 (ipykernel)",
   "language": "python",
   "name": "python3"
  },
  "language_info": {
   "codemirror_mode": {
    "name": "ipython",
    "version": 3
   },
   "file_extension": ".py",
   "mimetype": "text/x-python",
   "name": "python",
   "nbconvert_exporter": "python",
   "pygments_lexer": "ipython3",
   "version": "3.13.7"
  }
 },
 "nbformat": 4,
 "nbformat_minor": 4
}
