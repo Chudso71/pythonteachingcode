{
 "cells": [
  {
   "cell_type": "markdown",
   "metadata": {
    "collapsed": true,
    "jupyter": {
     "outputs_hidden": true
    }
   },
   "source": [
    "# P1M1 Module 1 Practice 1\n",
    "##  Getting started with Python in Jupyter Notebooks\n",
    "### notebooks, comments, print(), type(), addition, errors and art\n",
    "\n",
    "The practice notebooks will help you gain hands-on experience with the concepts introduced in the tutorials. Unlike the tutorials, the practice notebooks do not include walkthrough videos. You are learning to complete the code on your own. You can use AI, but you should also try to solve problems independently. By trying to solve them independently, you will reinforce your learning and gain confidence in your coding skills. This will build fundamental skills that will enable you to use AI effectively later. All content in the practice notebooks can be openly shared and discussed in discussions and class sessions.\n",
    "\n",
    "<font size=\"5\" color=\"#00A0B2\"  face=\"verdana\"> <B>Student will be able to</B></font>\n",
    "- use Python 3 in Jupyter notebooks\n",
    "- write working code using `print()` and `#` comments  \n",
    "- write working code using `type()` and variables\n",
    "- combine strings using string addition (+)\n",
    "- add numbers in code (+)\n",
    "- troubleshoot errors\n",
    "- create character art  \n",
    "\n",
    "# &nbsp;\n",
    ">**note:** the **[ ]** indicates student has a task to complete  \n",
    "  \n",
    ">**reminder:** to run code and save changes: student should upload or clone a copy of notebooks \n",
    "\n",
    "#### notebook use\n",
    "- [ ] insert a **code cell** below   \n",
    "- [ ] enter the following Python code, including the comment: \n",
    "```python \n",
    "# [ ] print 'Hello!' and remember to save notebook!\n",
    "print('Hello!')\n",
    "```\n",
    "Then run the code - the output should be:  \n",
    "`Hello!`"
   ]
  },
  {
   "cell_type": "code",
   "execution_count": 1,
   "metadata": {},
   "outputs": [
    {
     "name": "stdout",
     "output_type": "stream",
     "text": [
      "Hello!\n"
     ]
    }
   ],
   "source": [
    "print('Hello!')"
   ]
  },
  {
   "cell_type": "markdown",
   "metadata": {},
   "source": [
    "#### run the cell below   \n",
    "- [ ] use **Ctrl + Enter**  \n",
    "- [ ] use **Shift + Enter**    "
   ]
  },
  {
   "cell_type": "code",
   "execution_count": 2,
   "metadata": {},
   "outputs": [
    {
     "name": "stdout",
     "output_type": "stream",
     "text": [
      "watch for the cat\n"
     ]
    }
   ],
   "source": [
    "print('watch for the cat')"
   ]
  },
  {
   "cell_type": "markdown",
   "metadata": {},
   "source": [
    "#### Student's Notebook editing\n",
    "- [ ] Edit **this** notebook Markdown cell replacing the word \"Student's\" above with your name\n",
    "- [ ] Run the cell to display the formatted text\n",
    "- [ ] Run any 'markdown' cells that are in edit mode, so they are easier to read"
   ]
  },
  {
   "cell_type": "markdown",
   "metadata": {},
   "source": [
    "#### [ ] convert \\*this\\* cell from markdown to a code cell, then run it  \n",
    "print('Run as a code cell')\n"
   ]
  },
  {
   "cell_type": "markdown",
   "metadata": {},
   "source": [
    "##  # comments\n",
    "create a code comment that identifies this notebook, containing your name and the date"
   ]
  },
  {
   "cell_type": "code",
   "execution_count": null,
   "metadata": {
    "collapsed": true,
    "jupyter": {
     "outputs_hidden": true
    }
   },
   "outputs": [],
   "source": [
    "##This notebook belonges to CJ Hudson completed on Sep 13th"
   ]
  },
  {
   "cell_type": "markdown",
   "metadata": {},
   "source": [
    "#### use print() to \n",
    "- [ ] print [**your_name**]\n",
    "- [ ] print **is using python!**"
   ]
  },
  {
   "cell_type": "code",
   "execution_count": null,
   "metadata": {},
   "outputs": [
    {
     "name": "stdout",
     "output_type": "stream",
     "text": [
      "Cj Hudson\n",
      "is using Python\n"
     ]
    }
   ],
   "source": [
    "# [ ] print your name\n",
    "print(\"Cj Hudson\")\n",
    "# [ ] print \"is using Python\"\n",
    "print(\"is using Python\")\n"
   ]
  },
  {
   "cell_type": "markdown",
   "metadata": {},
   "source": [
    "Output above should be:  \n",
    "`Your Name  \n",
    "is using Python!`  "
   ]
  },
  {
   "cell_type": "markdown",
   "metadata": {},
   "source": [
    "#### use variables in print()\n",
    "- [ ] create a variable **your_name** and assign it a string containing your name\n",
    "- [ ] print **your_name**"
   ]
  },
  {
   "cell_type": "code",
   "execution_count": 5,
   "metadata": {},
   "outputs": [
    {
     "name": "stdout",
     "output_type": "stream",
     "text": [
      "Cj Hudson\n"
     ]
    }
   ],
   "source": [
    "# [ ] create a variable your_name and assign it a sting containing your name\n",
    "your_name = \"Cj Hudson\"\n",
    "#[ ] print your_name\n",
    "print(your_name)\n"
   ]
  },
  {
   "cell_type": "markdown",
   "metadata": {},
   "source": [
    "#### create more string variables\n",
    "- **[ ]** create variables as directed below\n",
    "- **[ ]** print the variables"
   ]
  },
  {
   "cell_type": "code",
   "execution_count": 11,
   "metadata": {},
   "outputs": [
    {
     "name": "stdout",
     "output_type": "stream",
     "text": [
      "song by steve lacy 11 333\n"
     ]
    }
   ],
   "source": [
    "# [ ] create variables and assign values for: favorite_song, shoe_size, lucky_number\n",
    "favorite_song = \"song by steve lacy\"\n",
    "shoe_size = \"11\"\n",
    "lucky_number = \"333\"\n",
    "\n",
    "# [ ] print the value of each variable favorite_song, shoe_size, and lucky_number\n",
    "\n",
    "print(favorite_song,shoe_size,lucky_number)\n"
   ]
  },
  {
   "cell_type": "markdown",
   "metadata": {},
   "source": [
    "#### use string addition\n",
    "- **[ ]**  print the above string variables (favorite_song, shoe_size, lucky_number) combined with a description by using **string addition**\n",
    ">for example favorite_song displayed as:  \n",
    "`favorite song is happy birthday`"
   ]
  },
  {
   "cell_type": "code",
   "execution_count": 14,
   "metadata": {},
   "outputs": [
    {
     "name": "stdout",
     "output_type": "stream",
     "text": [
      "My favorite song issong by steve lacy\n",
      "My shoe size is 11\n",
      "My lucky number is 333\n"
     ]
    }
   ],
   "source": [
    "# [ ] print favorite_song with description\n",
    "print(\"My favorite song is\" + favorite_song)\n",
    "\n",
    "# [ ] print shoe_size with description\n",
    "print(\"My shoe size is \" + shoe_size)\n",
    "\n",
    "# [ ] print lucky_number with description\n",
    "print(\"My lucky number is \" + lucky_number)\n"
   ]
  },
  {
   "cell_type": "markdown",
   "metadata": {},
   "source": [
    "##### more string addition\n",
    "- **[ ]** make a single string (sentence) in a variable called favorite_lucky_shoe using **string addition** with favorite_song, shoe_size, lucky_number variables and other strings as needed \n",
    "- **[ ]** print the value of the favorite_lucky_shoe variable string\n",
    "> sample output:  \n",
    "`For singing happy birthday 8.5 times, you will be fined $25`"
   ]
  },
  {
   "cell_type": "code",
   "execution_count": 20,
   "metadata": {},
   "outputs": [
    {
     "name": "stdout",
     "output_type": "stream",
     "text": [
      "My favorite song lucky number and shoe size is song by steve lacy 333 and 11\n"
     ]
    }
   ],
   "source": [
    "# assign favorite_lucky_shoe using\n",
    "favorite_lucky_shoe = \"My favorite song lucky number and shoe size is \" + favorite_song + \" \" + lucky_number + \" and \" + shoe_size\n",
    "print(favorite_lucky_shoe)\n"
   ]
  },
  {
   "cell_type": "markdown",
   "metadata": {},
   "source": [
    "### print() art"
   ]
  },
  {
   "cell_type": "markdown",
   "metadata": {},
   "source": [
    "#### use `print()` and the asterisk **\\*** to create the following shapes\n",
    "- [ ] diagonal line  \n",
    "- [ ] rectangle  \n",
    "- [ ] smiley face"
   ]
  },
  {
   "cell_type": "code",
   "execution_count": 22,
   "metadata": {},
   "outputs": [
    {
     "name": "stdout",
     "output_type": "stream",
     "text": [
      "*\n",
      " *\n",
      "  *\n",
      "        \n",
      "*******\n",
      "*     *\n",
      "*******\n",
      "        \n",
      "**   **\n",
      "   *   \n",
      "*     *\n",
      " *****\n"
     ]
    }
   ],
   "source": [
    "# [ ] print a diagonal using \"*\"\n",
    "print(\"*\")\n",
    "print(\" *\")\n",
    "print(\"  *\") \n",
    "print(\"        \")\n",
    "# [ ] rectangle using \"*\"\n",
    "print(\"*******\")\n",
    "print(\"*     *\")\n",
    "print(\"*******\")\n",
    "print(\"        \")\n",
    "# [ ] smiley using \"*\"\n",
    "print(\"**   **\")\n",
    "print(\"   *   \")\n",
    "print(\"*     *\")\n",
    "print(\" *****\")\n",
    "      \n",
    "\n"
   ]
  },
  {
   "cell_type": "markdown",
   "metadata": {},
   "source": [
    "#### Using `type()`\n",
    "-**[ ]** calulate the *type* using `type()`"
   ]
  },
  {
   "cell_type": "code",
   "execution_count": 23,
   "metadata": {},
   "outputs": [
    {
     "data": {
      "text/plain": [
       "str"
      ]
     },
     "execution_count": 23,
     "metadata": {},
     "output_type": "execute_result"
    }
   ],
   "source": [
    "# [ ] display the type of 'your name' (use single quotes)\n",
    "type('your name')\n",
    "\n"
   ]
  },
  {
   "cell_type": "code",
   "execution_count": 24,
   "metadata": {},
   "outputs": [
    {
     "data": {
      "text/plain": [
       "str"
      ]
     },
     "execution_count": 24,
     "metadata": {},
     "output_type": "execute_result"
    }
   ],
   "source": [
    "# [ ] display the type of \"save your notebook!\" (use double quotes)\n",
    "type(\"save your notebook!\")\n",
    "\n"
   ]
  },
  {
   "cell_type": "code",
   "execution_count": 25,
   "metadata": {},
   "outputs": [
    {
     "data": {
      "text/plain": [
       "str"
      ]
     },
     "execution_count": 25,
     "metadata": {},
     "output_type": "execute_result"
    }
   ],
   "source": [
    "# [ ] display the type of \"25\" (use quotes)\n",
    "type(\"25\")\n",
    "\n"
   ]
  },
  {
   "cell_type": "code",
   "execution_count": 27,
   "metadata": {},
   "outputs": [
    {
     "data": {
      "text/plain": [
       "str"
      ]
     },
     "execution_count": 27,
     "metadata": {},
     "output_type": "execute_result"
    }
   ],
   "source": [
    "# [ ] display the type of \"save your notebook \" + 'your name'\n",
    "\n",
    "type(\"save your notebook \" + 'your name')\n"
   ]
  },
  {
   "cell_type": "code",
   "execution_count": 28,
   "metadata": {},
   "outputs": [
    {
     "data": {
      "text/plain": [
       "int"
      ]
     },
     "execution_count": 28,
     "metadata": {},
     "output_type": "execute_result"
    }
   ],
   "source": [
    "# [ ] display the type of 25 (no quotes)\n",
    "type(25)\n",
    "\n"
   ]
  },
  {
   "cell_type": "code",
   "execution_count": 30,
   "metadata": {},
   "outputs": [
    {
     "data": {
      "text/plain": [
       "int"
      ]
     },
     "execution_count": 30,
     "metadata": {},
     "output_type": "execute_result"
    }
   ],
   "source": [
    "# [ ] display the type of 25 + 10 \n",
    "type(25 + 20)\n",
    "\n"
   ]
  },
  {
   "cell_type": "code",
   "execution_count": 31,
   "metadata": {},
   "outputs": [
    {
     "data": {
      "text/plain": [
       "float"
      ]
     },
     "execution_count": 31,
     "metadata": {},
     "output_type": "execute_result"
    }
   ],
   "source": [
    "# [ ] display the type of 1.55\n",
    "type(1.55)\n",
    "\n"
   ]
  },
  {
   "cell_type": "code",
   "execution_count": 32,
   "metadata": {},
   "outputs": [
    {
     "data": {
      "text/plain": [
       "float"
      ]
     },
     "execution_count": 32,
     "metadata": {},
     "output_type": "execute_result"
    }
   ],
   "source": [
    "# [ ] display the type of 1.55 + 25\n",
    "type(1.55 + 25)\n",
    "\n"
   ]
  },
  {
   "cell_type": "markdown",
   "metadata": {},
   "source": [
    "#### Find the type of variables\n",
    "- **[ ]** run the cell below to make the variables available to be used in other code\n",
    "- **[ ]** display the data type as directed in the cells that follow"
   ]
  },
  {
   "cell_type": "code",
   "execution_count": 33,
   "metadata": {},
   "outputs": [],
   "source": [
    "# assignments ***RUN THIS CELL*** before starting the section\n",
    "\n",
    "student_name = \"Gus\"\n",
    "student_age = 16\n",
    "student_grade = 3.5\n",
    "student_id = \"ABC-000-000\"\n"
   ]
  },
  {
   "cell_type": "code",
   "execution_count": 34,
   "metadata": {},
   "outputs": [
    {
     "data": {
      "text/plain": [
       "str"
      ]
     },
     "execution_count": 34,
     "metadata": {},
     "output_type": "execute_result"
    }
   ],
   "source": [
    "# [ ] display the current type of the variable student_name\n",
    "type(student_name)\n",
    "\n"
   ]
  },
  {
   "cell_type": "code",
   "execution_count": 35,
   "metadata": {},
   "outputs": [
    {
     "data": {
      "text/plain": [
       "int"
      ]
     },
     "execution_count": 35,
     "metadata": {},
     "output_type": "execute_result"
    }
   ],
   "source": [
    "# [ ] display the type of student_age\n",
    "type(student_age)\n",
    "\n"
   ]
  },
  {
   "cell_type": "code",
   "execution_count": 36,
   "metadata": {},
   "outputs": [
    {
     "data": {
      "text/plain": [
       "float"
      ]
     },
     "execution_count": 36,
     "metadata": {},
     "output_type": "execute_result"
    }
   ],
   "source": [
    "# [ ] display the type of student_grade\n",
    "type(student_grade)\n",
    "\n"
   ]
  },
  {
   "cell_type": "code",
   "execution_count": 37,
   "metadata": {},
   "outputs": [
    {
     "data": {
      "text/plain": [
       "float"
      ]
     },
     "execution_count": 37,
     "metadata": {},
     "output_type": "execute_result"
    }
   ],
   "source": [
    "# [ ] display the type of student_age + student_grade\n",
    "type(student_age + student_grade) \n",
    "\n"
   ]
  },
  {
   "cell_type": "code",
   "execution_count": 38,
   "metadata": {},
   "outputs": [
    {
     "data": {
      "text/plain": [
       "str"
      ]
     },
     "execution_count": 38,
     "metadata": {},
     "output_type": "execute_result"
    }
   ],
   "source": [
    "# [ ] display the current type of student_id\n",
    "type(student_id)\n",
    "\n"
   ]
  },
  {
   "cell_type": "code",
   "execution_count": 39,
   "metadata": {},
   "outputs": [
    {
     "data": {
      "text/plain": [
       "int"
      ]
     },
     "execution_count": 39,
     "metadata": {},
     "output_type": "execute_result"
    }
   ],
   "source": [
    "# assign new value to student_id \n",
    "student_id = 44\n",
    "\n",
    "# [ ] display the current of student_id\n",
    "type(student_id)\n",
    "\n"
   ]
  },
  {
   "cell_type": "markdown",
   "metadata": {
    "collapsed": true,
    "jupyter": {
     "outputs_hidden": true
    }
   },
   "source": [
    "#### number integer addition\n",
    "\n",
    "- **[ ]** create variables (x, y, z) with integer values"
   ]
  },
  {
   "cell_type": "code",
   "execution_count": 43,
   "metadata": {},
   "outputs": [],
   "source": [
    "# [ ] create integer variables (x, y, z) and assign them 1-3 digit integers (no decimals - no quotes)\n",
    "x = 33\n",
    "y = 44\n",
    "z = 55\n"
   ]
  },
  {
   "cell_type": "markdown",
   "metadata": {},
   "source": [
    "- **[ ]** insert a **code cell** below\n",
    "- **[ ]** create an integer variable named **xyz_sum** equal to the sum of x, y, and z\n",
    "- **[ ]** print the value of **xyz_sum** "
   ]
  },
  {
   "cell_type": "code",
   "execution_count": 44,
   "metadata": {},
   "outputs": [
    {
     "name": "stdout",
     "output_type": "stream",
     "text": [
      "132\n"
     ]
    }
   ],
   "source": [
    "xyz_sum = x + y + z\n",
    "print(xyz_sum)\n"
   ]
  },
  {
   "cell_type": "markdown",
   "metadata": {},
   "source": [
    "### Errors\n",
    "- **[ ]** troubleshoot and fix the errors below"
   ]
  },
  {
   "cell_type": "code",
   "execution_count": 47,
   "metadata": {},
   "outputs": [
    {
     "name": "stdout",
     "output_type": "stream",
     "text": [
      "Hello World!\n"
     ]
    }
   ],
   "source": [
    "# [ ] fix the error \n",
    "\n",
    "print(\"Hello World!\")    \n",
    "\n",
    "\n"
   ]
  },
  {
   "cell_type": "code",
   "execution_count": 48,
   "metadata": {},
   "outputs": [
    {
     "name": "stdout",
     "output_type": "stream",
     "text": [
      "strings have quotes and variables have names\n"
     ]
    }
   ],
   "source": [
    "# [ ] fix the error \n",
    "print(\"strings have quotes and variables have names\")\n",
    "\n"
   ]
  },
  {
   "cell_type": "code",
   "execution_count": 49,
   "metadata": {},
   "outputs": [
    {
     "name": "stdout",
     "output_type": "stream",
     "text": [
      "I have $5\n"
     ]
    }
   ],
   "source": [
    "# [ ] fix the error \n",
    "print( \"I have $\" + \"5\")\n",
    "\n"
   ]
  },
  {
   "cell_type": "code",
   "execution_count": 50,
   "metadata": {},
   "outputs": [
    {
     "name": "stdout",
     "output_type": "stream",
     "text": [
      "always save the notebook\n"
     ]
    }
   ],
   "source": [
    "# [ ] fix the error \n",
    "print(\"always save the notebook\")\n",
    "      \n"
   ]
  },
  {
   "cell_type": "code",
   "execution_count": null,
   "metadata": {},
   "outputs": [],
   "source": []
  },
  {
   "cell_type": "markdown",
   "metadata": {
    "collapsed": true,
    "jupyter": {
     "outputs_hidden": true
    }
   },
   "source": [
    "## ASCII art\n",
    "- **[ ]** Display first name or initials as ASCII Art\n",
    "- **[ ]** Challenge: insert an additional code cell to make an ASCII picture"
   ]
  },
  {
   "cell_type": "code",
   "execution_count": null,
   "metadata": {},
   "outputs": [],
   "source": [
    "# [ ] ASCII ART\n",
    "ASCII ART = \"CJ\"\n",
    "\n",
    "\n"
   ]
  },
  {
   "cell_type": "code",
   "execution_count": 52,
   "metadata": {},
   "outputs": [
    {
     "name": "stdout",
     "output_type": "stream",
     "text": [
      "****  ******\n",
      "*        *  \n",
      "****   ***  \n"
     ]
    }
   ],
   "source": [
    "# [ ] ASCII ART\n",
    "print(\"****  ******\")\n",
    "print(\"*        *  \")\n",
    "print(\"****   ***  \")\n",
    "\n"
   ]
  },
  {
   "cell_type": "markdown",
   "metadata": {},
   "source": [
    "# Module 1 Practice 2\n",
    "## Strings: input, testing, formatting\n",
    "<font size=\"5\" color=\"#00A0B2\"  face=\"verdana\"> <B>Student will be able to</B></font>\n",
    "- gather, store and use string `input()`  \n",
    "- format `print()` output  \n",
    "- test string characteristics  \n",
    "- format string output  \n",
    "- search for a string in a string  "
   ]
  },
  {
   "cell_type": "markdown",
   "metadata": {},
   "source": [
    "## input()\n",
    "getting input from users"
   ]
  },
  {
   "cell_type": "code",
   "execution_count": 53,
   "metadata": {
    "scrolled": true
   },
   "outputs": [
    {
     "name": "stdout",
     "output_type": "stream",
     "text": [
      " hello\n"
     ]
    },
    {
     "name": "stdout",
     "output_type": "stream",
     "text": [
      "hello\n"
     ]
    }
   ],
   "source": [
    "# [ ] get user input for a variable named remind_me\n",
    "remind_me = input()\n",
    "\n",
    "# [ ] print the value of the variable remind_me\n",
    "print(remind_me)\n"
   ]
  },
  {
   "cell_type": "code",
   "execution_count": 55,
   "metadata": {},
   "outputs": [
    {
     "name": "stdout",
     "output_type": "stream",
     "text": [
      "remember hello\n"
     ]
    }
   ],
   "source": [
    "# use string addition to print \"remember: \" before the remind_me input string\n",
    "print(\"remember \" + remind_me) \n"
   ]
  },
  {
   "cell_type": "markdown",
   "metadata": {},
   "source": [
    "### Program: Meeting Details\n",
    "#### [ ] get user **input** for meeting subject and time\n",
    "`what is the meeting subject?: plan for graduation`  \n",
    "`what is the meeting time?: 3:00 PM on Monday`  \n",
    "\n",
    "#### [ ] print **output** with descriptive labels  \n",
    "`Meeting Subject: plan for graduation`  \n",
    "`Meeting Time:    3:00 PM on Monday`"
   ]
  },
  {
   "cell_type": "code",
   "execution_count": 57,
   "metadata": {},
   "outputs": [
    {
     "name": "stdout",
     "output_type": "stream",
     "text": [
      "what is the meeting subject? god\n",
      "what is the meeting time?: 4:44\n"
     ]
    },
    {
     "name": "stdout",
     "output_type": "stream",
     "text": [
      "Meeting Subject:god\n",
      "Meeting Time:4:44\n"
     ]
    }
   ],
   "source": [
    "# [ ] get user input for 2 variables: meeting_subject and meeting_time\n",
    "MS = input(\"what is the meeting subject?\")\n",
    "MT = input(\"what is the meeting time?:\")\n",
    "# [ ] use string addition to print meeting subject and time with labels\n",
    "print(\"Meeting Subject:\" + MS)\n",
    "print(\"Meeting Time:\" + MT)\n",
    "\n",
    "\n"
   ]
  },
  {
   "cell_type": "markdown",
   "metadata": {
    "collapsed": true,
    "jupyter": {
     "outputs_hidden": true
    }
   },
   "source": [
    "## print() formatting \n",
    "### combining multiple strings separated by commas in the print() function"
   ]
  },
  {
   "cell_type": "code",
   "execution_count": 59,
   "metadata": {},
   "outputs": [
    {
     "name": "stdout",
     "output_type": "stream",
     "text": [
      "Wednesday is in the middle of the week\n"
     ]
    }
   ],
   "source": [
    "# [ ] print the combined strings \"Wednesday is\" and \"in the middle of the week\" \n",
    "print( \"Wednesday is\" + \" in the middle of the week\" )\n"
   ]
  },
  {
   "cell_type": "code",
   "execution_count": 61,
   "metadata": {},
   "outputs": [
    {
     "name": "stdout",
     "output_type": "stream",
     "text": [
      "Remember to hello\n"
     ]
    }
   ],
   "source": [
    "# [ ] print combined string \"Remember to\" and the string variable remind_me from input above\n",
    "print(\"Remember to \" + remind_me)\n"
   ]
  },
  {
   "cell_type": "code",
   "execution_count": 63,
   "metadata": {},
   "outputs": [
    {
     "name": "stdout",
     "output_type": "stream",
     "text": [
      "hellogodhello\n"
     ]
    }
   ],
   "source": [
    "# [ ] Combine 3 variables from above with multiple strings\n",
    "print(remind_me  + MS  + remind_me)\n"
   ]
  },
  {
   "cell_type": "markdown",
   "metadata": {
    "collapsed": true,
    "jupyter": {
     "outputs_hidden": true
    }
   },
   "source": [
    "### print() quotation marks"
   ]
  },
  {
   "cell_type": "code",
   "execution_count": 64,
   "metadata": {},
   "outputs": [
    {
     "name": "stdout",
     "output_type": "stream",
     "text": [
      "what's up?\n"
     ]
    }
   ],
   "source": [
    "# [ ] print a string sentence that will display an Apostrophe (')\n",
    "print(\"what's up?\")\n",
    "\n"
   ]
  },
  {
   "cell_type": "code",
   "execution_count": 65,
   "metadata": {},
   "outputs": [
    {
     "name": "stdout",
     "output_type": "stream",
     "text": [
      "\"HURRY UP!\" she screamed\n"
     ]
    }
   ],
   "source": [
    "# [ ] print a string sentence that will display a quote(\") or quotes\n",
    "print('\"HURRY UP!\" she screamed')\n",
    "\n"
   ]
  },
  {
   "cell_type": "markdown",
   "metadata": {
    "collapsed": true,
    "jupyter": {
     "outputs_hidden": true
    }
   },
   "source": [
    "## Boolean string tests"
   ]
  },
  {
   "cell_type": "markdown",
   "metadata": {},
   "source": [
    "### Vehicle tests  \n",
    "#### get user input for a variable named vehicle  \n",
    "print the following tests results  \n",
    "- check True or False if vehicle is All alphabetical characters using .isalpha()  \n",
    "- check True or False if vehicle is only All alphabetical & numeric characters  \n",
    "- check True or False if vehicle is Capitalized (first letter only)  \n",
    "- check True or False if vehicle is All lowercase  \n",
    "- **bonus** print description for each test (e.g.- `\"All Alpha: True\"`)"
   ]
  },
  {
   "cell_type": "code",
   "execution_count": 75,
   "metadata": {},
   "outputs": [
    {
     "name": "stdout",
     "output_type": "stream",
     "text": [
      "All Alpha: True\n",
      "All Alpha: True\n",
      "All Alpha: False\n",
      "All Alpha: vehicle\n"
     ]
    }
   ],
   "source": [
    "# [ ] complete vehicle tests \n",
    "print(\"All Alpha:\",\"vehicle\".isalpha())\n",
    "print(\"All Alpha:\",\"vehicle\".isalnum())\n",
    "print(\"All Alpha:\",\"vehicle\".istitle())\n",
    "print(\"All Alpha:\",\"vehicle\".lower())\n"
   ]
  },
  {
   "cell_type": "code",
   "execution_count": 76,
   "metadata": {},
   "outputs": [
    {
     "data": {
      "text/plain": [
       "False"
      ]
     },
     "execution_count": 76,
     "metadata": {},
     "output_type": "execute_result"
    }
   ],
   "source": [
    "# [ ] print True or False if color starts with \"b\" \n",
    "\"color\".startswith(\"B\")\n"
   ]
  },
  {
   "cell_type": "code",
   "execution_count": null,
   "metadata": {
    "collapsed": true,
    "jupyter": {
     "outputs_hidden": true
    }
   },
   "outputs": [],
   "source": []
  },
  {
   "cell_type": "markdown",
   "metadata": {},
   "source": [
    "## Sting formatting"
   ]
  },
  {
   "cell_type": "code",
   "execution_count": 79,
   "metadata": {},
   "outputs": [
    {
     "name": "stdout",
     "output_type": "stream",
     "text": [
      "The time is noon.\n"
     ]
    }
   ],
   "source": [
    "# [ ] print the string variable capital_this Capitalizing only the first letter\n",
    "capitalize_this = \"the TIME is Noon.\"\n",
    "print(\"the TIME is Noon.\".capitalize())\n"
   ]
  },
  {
   "cell_type": "code",
   "execution_count": 80,
   "metadata": {},
   "outputs": [
    {
     "name": "stdout",
     "output_type": "stream",
     "text": [
      "Who WRITES like This?\n"
     ]
    }
   ],
   "source": [
    "# print the string variable swap_this in swapped case\n",
    "swap_this = \"wHO writes LIKE tHIS?\"\n",
    "print(swap_this.swapcase())\n"
   ]
  },
  {
   "cell_type": "code",
   "execution_count": 81,
   "metadata": {},
   "outputs": [
    {
     "name": "stdout",
     "output_type": "stream",
     "text": [
      "can you hear me?\n"
     ]
    }
   ],
   "source": [
    "# print the string variable whisper_this in all lowercase\n",
    "whisper_this = \"Can you hear me?\"\n",
    "print(whisper_this.lower())\n"
   ]
  },
  {
   "cell_type": "code",
   "execution_count": 83,
   "metadata": {},
   "outputs": [
    {
     "name": "stdout",
     "output_type": "stream",
     "text": [
      "CAN YOU HEAR ME NOW!?\n"
     ]
    }
   ],
   "source": [
    "# print the string variable yell_this in all UPPERCASE\n",
    "yell_this = \"Can you hear me Now!?\"\n",
    "print(yell_this.upper())\n"
   ]
  },
  {
   "cell_type": "code",
   "execution_count": 85,
   "metadata": {},
   "outputs": [
    {
     "name": "stdout",
     "output_type": "stream",
     "text": [
      "enter a string to reformat:  PEOPLE\n"
     ]
    },
    {
     "name": "stdout",
     "output_type": "stream",
     "text": [
      "people\n",
      "PEOPLE\n",
      "people\n",
      "People\n"
     ]
    }
   ],
   "source": [
    "#format input using .upper(), .lower(), .swapcase, .capitalize()\n",
    "format_input = input('enter a string to reformat: ')\n",
    "print(format_input.lower())\n",
    "print(format_input.upper())\n",
    "print(format_input.swapcase())\n",
    "print(format_input.capitalize())"
   ]
  },
  {
   "cell_type": "markdown",
   "metadata": {},
   "source": [
    "### input() formatting"
   ]
  },
  {
   "cell_type": "code",
   "execution_count": 86,
   "metadata": {},
   "outputs": [
    {
     "name": "stdout",
     "output_type": "stream",
     "text": [
      " Blue\n"
     ]
    },
    {
     "name": "stdout",
     "output_type": "stream",
     "text": [
      "blue\n"
     ]
    }
   ],
   "source": [
    "# [ ] get user input for a variable named color\n",
    "# [ ] modify color to be all lowercase and print\n",
    "color = input()\n",
    "print(color.lower())\n"
   ]
  },
  {
   "cell_type": "code",
   "execution_count": 87,
   "metadata": {},
   "outputs": [
    {
     "name": "stdout",
     "output_type": "stream",
     "text": [
      " WHATS up DaWG\n"
     ]
    },
    {
     "name": "stdout",
     "output_type": "stream",
     "text": [
      "whats up dawg\n"
     ]
    }
   ],
   "source": [
    "# [ ] get user input using variable remind_me and format to all **lowercase** and print\n",
    "# [ ] test using input with mixed upper and lower cases\n",
    "remind_me = input()\n",
    "print(remind_me.lower())\n"
   ]
  },
  {
   "cell_type": "code",
   "execution_count": 88,
   "metadata": {},
   "outputs": [
    {
     "name": "stdout",
     "output_type": "stream",
     "text": [
      " yell\n"
     ]
    },
    {
     "name": "stdout",
     "output_type": "stream",
     "text": [
      "YELL\n"
     ]
    }
   ],
   "source": [
    "# [] get user input for the variable yell_this and format as a \"YELL\" to ALL CAPS\n",
    "yell_this = input()\n",
    "print(yell_this.upper())\n"
   ]
  },
  {
   "cell_type": "markdown",
   "metadata": {},
   "source": [
    "## \"in\" keyword\n",
    "### boolean: short_str in long_str"
   ]
  },
  {
   "cell_type": "code",
   "execution_count": 90,
   "metadata": {},
   "outputs": [
    {
     "name": "stdout",
     "output_type": "stream",
     "text": [
      "Whats the name of some animals? cats, dogs, and zebras\n"
     ]
    },
    {
     "name": "stdout",
     "output_type": "stream",
     "text": [
      "True\n"
     ]
    }
   ],
   "source": [
    "# [ ] get user input for the name of some animals in the variable animals_input\n",
    "animals_input = input(\"Whats the name of some animals?\")\n",
    "\n",
    "# [ ] print true or false if 'cat' is in the string variable animals_input\n",
    "print(\"cat\" in animals_input) \n",
    "\n"
   ]
  },
  {
   "cell_type": "code",
   "execution_count": 95,
   "metadata": {},
   "outputs": [
    {
     "name": "stdout",
     "output_type": "stream",
     "text": [
      "Choose a color BLUE\n"
     ]
    },
    {
     "data": {
      "text/plain": [
       "False"
      ]
     },
     "execution_count": 95,
     "metadata": {},
     "output_type": "execute_result"
    }
   ],
   "source": [
    "# [ ] get user input for color\n",
    "color = input(\"Choose a color\")\n",
    "\n",
    "# [ ] print True or False for starts with \"b\"\n",
    "color.startswith(\"b\")\n",
    "\n",
    "# [ ] print color variable value exactly as input \n",
    "#     test with input: \"Blue\", \"BLUE\", \"bLUE\"\n",
    "\n",
    "\n",
    "\n"
   ]
  },
  {
   "cell_type": "markdown",
   "metadata": {},
   "source": [
    "## Program: guess what I'm reading\n",
    "### short_str in long_str\n",
    "\n",
    "1. **[ ]** get user **`input`** for a single word describing something that can be read \n",
    " save in a variable called **can_read**  \n",
    " e.g. - \"website\", \"newspaper\", \"blog\", \"textbook\"  \n",
    " &nbsp;  \n",
    "2. **[ ]** get user **`input`** for 3 things can be read  \n",
    " save in a variable called **can_read_things**  \n",
    "&nbsp;  \n",
    "\n",
    "3. **[ ]** print **`true`** if the **can_read** string is found  \n",
    " **in** the **can_read_things** string variable\n"
   ]
  },
  {
   "cell_type": "code",
   "execution_count": 96,
   "metadata": {},
   "outputs": [
    {
     "name": "stdout",
     "output_type": "stream",
     "text": [
      "Guess what I'm reading in 1 word book\n",
      "What are 3 things that can be read? books blogs paper\n"
     ]
    },
    {
     "name": "stdout",
     "output_type": "stream",
     "text": [
      "True\n"
     ]
    }
   ],
   "source": [
    "# project: \"guess what I'm reading\"\n",
    "can_read = input(\"Guess what I'm reading in 1 word\")\n",
    "# 1[ ] get 1 word input for can_read variable\n",
    "\n",
    "\n",
    "# 2[ ] get 3 things input for can_read_things variable\n",
    "can_read_things = input(\"What are 3 things that can be read?\")\n",
    "\n",
    "# 3[ ] print True if can_read is in can_read_things\n",
    "print(can_read in can_read_things)\n",
    "\n",
    "# [] challenge: format the output to read \"item found = True\" (or false)\n",
    "# hint: look print formatting exercises\n",
    "\n"
   ]
  },
  {
   "cell_type": "markdown",
   "metadata": {},
   "source": [
    "## Program: Allergy Check\n",
    "\n",
    "1. **[ ]** get user **`input`** for categories of food eaten in the last 24 hours  \n",
    " save in a variable called **input_test**  \n",
    "\n",
    "2. **[ ]** print **`True`** if \"dairy\" is in the **input_test** string  \n",
    "3. **[ ]** Test the code so far  \n",
    "4. **[ ]** repeat the process checking the input for \"nuts\", **challenge** add \"Seafood\" and \"chocolate\"  \n",
    "5. **[ ]** Test your code  \n",
    "  \n",
    "6. **[ ] challenge:** make your code work for input regardless of case, e.g. - print **`True`** for \"Nuts\", \"NuTs\", \"NUTS\" or \"nuts\"  \n"
   ]
  },
  {
   "cell_type": "markdown",
   "metadata": {},
   "source": [
    "## Program: Allergy Check\n",
    "\n",
    "1. **[ ]** get user **`input`** for categories of food eaten in the last 24 hours  \n",
    " save in a variable called **input_test**  \n",
    "\n",
    "2. **[ ]** print **`True`** if \"dairy\" is in the **input_test** string  \n",
    "3. **[ ]** Test the code so far  \n",
    "4. **[ ]** repeat the process checking the input for \"nuts\", **challenge** add \"Seafood\" and \"chocolate\"  \n",
    "5. **[ ]** Test your code  \n",
    "  \n",
    "6. **[ ] challenge:** make your code work for input regardless of case, e.g. - print **`True`** for \"Nuts\", \"NuTs\", \"NUTS\" or \"nuts\"  \n"
   ]
  },
  {
   "cell_type": "code",
   "execution_count": 103,
   "metadata": {},
   "outputs": [
    {
     "name": "stdout",
     "output_type": "stream",
     "text": [
      "What are some categories of the food you've eaten in the last 24 hours? Dairy Fruits Grains\n"
     ]
    },
    {
     "name": "stdout",
     "output_type": "stream",
     "text": [
      "False\n"
     ]
    },
    {
     "name": "stdout",
     "output_type": "stream",
     "text": [
      "Give me a food to test:  nuts\n"
     ]
    },
    {
     "name": "stdout",
     "output_type": "stream",
     "text": [
      "False\n",
      "True\n"
     ]
    }
   ],
   "source": [
    "# Allergy check \n",
    "input_test = input(\"What are some categories of the food you've eaten in the last 24 hours?\")\n",
    "# 1[ ] get input for test (prompt user to enter something like \"nuts\" or \"dairy\" to store in variable named \"test\")\n",
    "print(\"dairy\" in input_test)\n",
    "test_food = input(\"Give me a food to test: \")\n",
    "\n",
    "\n",
    "# 2/3[ ] print True if \"dairy\" is in the input or False if not\n",
    "print(\"dairy\" in test_food)\n",
    "\n",
    "# 4[ ] Check if \"nuts\" are in the input\n",
    "print(\"nuts\" in test_food)\n",
    "# 4+[ ] Challenge: Check if \"seafood\" is in the input\n",
    "\n",
    "# 4+[ ] Challenge: Check if \"chocolate\" is in the input\n",
    "\n"
   ]
  },
  {
   "cell_type": "markdown",
   "metadata": {},
   "source": [
    "[Terms of use](http://go.microsoft.com/fwlink/?LinkID=206977) &nbsp; [Privacy & cookies](https://go.microsoft.com/fwlink/?LinkId=521839) &nbsp; © 2017 Microsoft"
   ]
  }
 ],
 "metadata": {
  "anaconda-cloud": {},
  "kernelspec": {
   "display_name": "Python 3 (ipykernel)",
   "language": "python",
   "name": "python3"
  },
  "language_info": {
   "codemirror_mode": {
    "name": "ipython",
    "version": 3
   },
   "file_extension": ".py",
   "mimetype": "text/x-python",
   "name": "python",
   "nbconvert_exporter": "python",
   "pygments_lexer": "ipython3",
   "version": "3.13.7"
  }
 },
 "nbformat": 4,
 "nbformat_minor": 4
}
