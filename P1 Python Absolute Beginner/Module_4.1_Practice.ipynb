{
 "cells": [
  {
   "cell_type": "markdown",
   "metadata": {},
   "source": [
    "# P1M4: Module 4 Practice\n",
    "## Nested Conditionals\n",
    "<font size=\"5\" color=\"#00A0B2\"  face=\"verdana\"> <B>Student will be able to</B></font>\n",
    "- create nested conditional logic in code  \n",
    "- print format print using escape sequence (**\\**)"
   ]
  },
  {
   "cell_type": "markdown",
   "metadata": {},
   "source": [
    "# &nbsp;\n",
    "<font size=\"6\" color=\"#B24C00\"  face=\"verdana\"> <B>Tasks</B></font>  "
   ]
  },
  {
   "cell_type": "code",
   "execution_count": 2,
   "metadata": {},
   "outputs": [
    {
     "name": "stdout",
     "output_type": "stream",
     "text": [
      "The new line character is \"\\n\"\n"
     ]
    }
   ],
   "source": [
    "# [ ] print a string that outputs the following exactly: The new line character is \"\\n\"\n",
    "print(\"The new line character is \\\"\\\\n\\\"\")\n"
   ]
  },
  {
   "cell_type": "code",
   "execution_count": 3,
   "metadata": {},
   "outputs": [
    {
     "name": "stdout",
     "output_type": "stream",
     "text": [
      "\"That's how we escape!\"\n"
     ]
    }
   ],
   "source": [
    "# [ ] print output that is exactly (with quotes): \"That's how we escape!\"\n",
    "print(\"\\\"That's how we escape!\\\"\")\n"
   ]
  },
  {
   "cell_type": "code",
   "execution_count": 5,
   "metadata": {},
   "outputs": [
    {
     "name": "stdout",
     "output_type": "stream",
     "text": [
      "# 1\t one\n",
      "# 22\t two\n",
      "# 333\t three\n"
     ]
    }
   ],
   "source": [
    "# [ ] with only 1 print statement and using No Space Characters, output the text commented below  \n",
    "\n",
    "# 1       one\n",
    "# 22      two\n",
    "# 333     three\n",
    "\n",
    "print(\"# 1\\t one\\n# 22\\t two\\n# 333\\t three\")"
   ]
  },
  {
   "cell_type": "markdown",
   "metadata": {},
   "source": [
    "# &nbsp;\n",
    "## Program: quote_me() Function\n",
    "quote_me takes a string argument and returns a string that will display surrounded with **added double quotes** if printed  \n",
    "- check if passed string starts with a double quote (`\"\\\"\"`), then surround string with single quotations \n",
    "- if the passed string starts with single quote, or if doesn't start with a quotation mark, then surround with double quotations  \n",
    "\n",
    "Test the function code passing string input as the argument to quote_me() "
   ]
  },
  {
   "cell_type": "code",
   "execution_count": 22,
   "metadata": {},
   "outputs": [
    {
     "name": "stdin",
     "output_type": "stream",
     "text": [
      "Enter a string l\n"
     ]
    },
    {
     "name": "stdout",
     "output_type": "stream",
     "text": [
      "\"l\"\n"
     ]
    }
   ],
   "source": [
    "# [ ] create and test quote_me()\n",
    "def quote_me(hi):\n",
    "    if hi.startswith(\"\\\"\"):\n",
    "        return \"'\" + hi + \"'\"\n",
    "    elif hi.startswith(\"'\"):\n",
    "        return '\"' + hi +'\"'\n",
    "    else:\n",
    "        return '\"'+ hi +'\"'\n",
    "    \n",
    "\n",
    "\n",
    "hi = input(\"Enter a string\")\n",
    "print(quote_me(hi))\n",
    "\n"
   ]
  },
  {
   "cell_type": "markdown",
   "metadata": {},
   "source": [
    "# &nbsp;\n",
    "### Program: shirt order \n",
    "First get input for color and size  \n",
    "- White has sizes L, M \n",
    "- Blue has sizes M, S  \n",
    "\n",
    "print available or unavailable, then  \n",
    "print the order confirmation of color and size  \n",
    "\n",
    "*\n",
    "**hint**: set a variable \"available = False\" before nested if statements and  \n",
    "change to True if color and size are avaliable*"
   ]
  },
  {
   "cell_type": "code",
   "execution_count": 34,
   "metadata": {},
   "outputs": [
    {
     "name": "stdin",
     "output_type": "stream",
     "text": [
      "What color would you like? blue\n",
      "What shirt size would you like? m\n"
     ]
    },
    {
     "name": "stdout",
     "output_type": "stream",
     "text": [
      "Available\n",
      "One Blue Medium T-shirt coming your way!\n"
     ]
    }
   ],
   "source": [
    "# [ ] create shirt order using nested if \n",
    "color = input(\"What color would you like?\")\n",
    "\n",
    "available = False\n",
    "if color.lower() == \"white\":\n",
    "    shirt_size = input(\"What shirt size would you like?\")\n",
    "    if shirt_size.upper() == \"L\":\n",
    "        available = True\n",
    "        print(\"Available!\")\n",
    "        print(\"One White Large T-shirt coming your way!\")\n",
    "    elif shirt_size.upper() == \"M\":\n",
    "        available = True\n",
    "        print(\"Available!\")\n",
    "        print(\"One White Medium T-shirt coming your way!\")\n",
    "    else:\n",
    "        print(\"UNAVAILABLE\")\n",
    "elif color.lower() == \"blue\":\n",
    "    shirt_size = input(\"What shirt size would you like?\")\n",
    "    if shirt_size.upper() == \"M\":\n",
    "        available = True\n",
    "        print(\"Available!\")\n",
    "        print(\"One Blue Medium T-shirt coming your way!\")\n",
    "    elif shirt_size.upper() == \"S\":\n",
    "        available = True\n",
    "        print(\"Available!\")\n",
    "        print(\"One Blue Small T-shirt coming your way!\")\n",
    "    else:\n",
    "        print(\"UNAVAILABLE\")\n",
    "else:\n",
    "    print(\"Color not available\")\n",
    "    \n"
   ]
  },
  {
   "cell_type": "markdown",
   "metadata": {},
   "source": [
    "# &nbsp;\n",
    "## Program: str_analysis() Function\n",
    "Create the str_analysis() function that takes a string argument.  In the body of the function:\n",
    "- Check `if` string is digits  \n",
    "  - if digits: convert to `int` and check `if` greater than 99  \n",
    "    - if greater than 99, print a message about a \"big number\"  \n",
    "    - if not greater than 99, print message about \"small number\"    \n",
    "  - if not digits: check if string isalpha\n",
    "    - if isalpha print message about being all alpha\n",
    "    - if not isalpha print a message about being neither all alpha nor all digit  \n",
    "    \n",
    "call the function with a string from user input "
   ]
  },
  {
   "cell_type": "code",
   "execution_count": 7,
   "metadata": {},
   "outputs": [
    {
     "name": "stdin",
     "output_type": "stream",
     "text": [
      "Enter input here:  =\n"
     ]
    },
    {
     "name": "stdout",
     "output_type": "stream",
     "text": [
      "invalid input, input is neither alpha or digit\n"
     ]
    }
   ],
   "source": [
    "# [ ] create and test str_analysis()\n",
    "def str_analysis(yo):\n",
    "    if yo.isdigit():\n",
    "        if int(yo) > 99:\n",
    "            return \"Wow thats a big number!\"\n",
    "        elif int(yo) < 99:\n",
    "            return \"wow thats a small number!\"\n",
    "    elif yo.isalpha():\n",
    "        return \"This string is all alpha.\"\n",
    "    else:\n",
    "        return \"invalid input, input is neither alpha or digit\"\n",
    "yo = input(\"Enter input here: \")\n",
    "print(str_analysis(yo))\n",
    "\n",
    "            "
   ]
  },
  {
   "cell_type": "markdown",
   "metadata": {
    "collapsed": true,
    "jupyter": {
     "outputs_hidden": true
    }
   },
   "source": [
    "# &nbsp;  \n",
    "### Program: ticket_check() - finds out if a seat is available  \n",
    "Call ticket_check() function with 2 arguments: *section* and *seats* requested and return True or False  \n",
    "- **section** is a string and expects: general, floor\n",
    "- **seats** is an integer and expects: 1 - 10  \n",
    "\n",
    "Check for valid section and seats\n",
    "- if section is *general* (or use startswith \"g\")  \n",
    "  - if seats is 1-10 return True \n",
    "- if section is *floor* (or use starts with \"f\")\n",
    "  - if seats is 1-4 return True  \n",
    "\n",
    "otherwise return False"
   ]
  },
  {
   "cell_type": "code",
   "execution_count": 8,
   "metadata": {},
   "outputs": [
    {
     "name": "stdin",
     "output_type": "stream",
     "text": [
      "Dominic Thomas Which section? (general or floor):  ho\n",
      "Seat number?:  0\n"
     ]
    },
    {
     "name": "stdout",
     "output_type": "stream",
     "text": [
      "section was not general or floor\n"
     ]
    },
    {
     "data": {
      "text/plain": [
       "False"
      ]
     },
     "execution_count": 8,
     "metadata": {},
     "output_type": "execute_result"
    }
   ],
   "source": [
    "# [ ] create and call ticket_check()\n",
    "# your full name should be in the input prompt \n",
    "#Call ticket_check() function with 2 arguments: section and seats requested and return True or False\n",
    "def ticket_check(section = None,seats = None):\n",
    "    '''\n",
    "    This function checks if a ticket is valid and returns True/False.\n",
    "    @param:section takes general or floor\n",
    "    '''\n",
    "    #TODO handle the situation in which user does not supply arguments; use input()\n",
    "    if section == None:\n",
    "        section = input(\"Dominic Thomas Which section? (general or floor): \")\n",
    "    \n",
    "    if seats == None:\n",
    "        seats = int(input(\"Seat number?: \"))\n",
    "    \n",
    "    section = section.lower()\n",
    "    if section == \"general\":\n",
    "        #TODO if seats is 1-10 return True\n",
    "        if seats >= 1 and seats <=10:\n",
    "            print(\"section is general and seats less than 10\")\n",
    "            return True\n",
    "        else:\n",
    "            return False\n",
    "    elif section == \"floor\":\n",
    "        #TODO if seats is 1-4 return True\n",
    "        if seats >= 1 and seats <= 4:\n",
    "            return True\n",
    "        else:\n",
    "            print(\"section was floor but seats not >= 1 and <5\")\n",
    "            return False\n",
    "    else:\n",
    "        print(\"section was not general or floor\")\n",
    "        return False\n",
    "    \n",
    "ticket_check()\n"
   ]
  },
  {
   "cell_type": "markdown",
   "metadata": {},
   "source": [
    "# Module 4 Practice 2\n",
    "## `while()` loops & increments\n",
    "<font size=\"5\" color=\"#00A0B2\"  face=\"verdana\"> <B>Student will be able to</B></font>\n",
    "- create forever loops using `while` and `break`\n",
    "- use incrementing variables in a while loop\n",
    "- control while loops using Boolean operators"
   ]
  },
  {
   "cell_type": "code",
   "execution_count": 18,
   "metadata": {},
   "outputs": [
    {
     "name": "stdin",
     "output_type": "stream",
     "text": [
      "enter an integer 8\n"
     ]
    },
    {
     "name": "stdout",
     "output_type": "stream",
     "text": [
      "8\n"
     ]
    },
    {
     "name": "stdin",
     "output_type": "stream",
     "text": [
      "enter an integer 9\n"
     ]
    },
    {
     "name": "stdout",
     "output_type": "stream",
     "text": [
      "17\n"
     ]
    },
    {
     "name": "stdin",
     "output_type": "stream",
     "text": [
      "enter an integer 99\n"
     ]
    },
    {
     "name": "stdout",
     "output_type": "stream",
     "text": [
      "116\n"
     ]
    },
    {
     "name": "stdin",
     "output_type": "stream",
     "text": [
      "enter an integer j\n"
     ]
    }
   ],
   "source": [
    "# [ ] use a \"forever\" while loop to get user input of integers to add to sum, \n",
    "# until a non-digit is entered, then break the loop and print sum\n",
    "sum = 0\n",
    "forever = input(\"enter an integer\")\n",
    "while forever.isdigit():\n",
    "    sum = int(forever) + sum\n",
    "    print(sum)\n",
    "    forever = input(\"enter an integer\")\n",
    "\n",
    "    "
   ]
  },
  {
   "cell_type": "code",
   "execution_count": 28,
   "metadata": {},
   "outputs": [
    {
     "name": "stdin",
     "output_type": "stream",
     "text": [
      "Guess a color in the rainbow r\n",
      "Sorry thats not in the rainbow please try again:  e\n",
      "Sorry thats not in the rainbow please try again:  red\n"
     ]
    },
    {
     "name": "stdout",
     "output_type": "stream",
     "text": [
      "you did alright and on your third try!\n"
     ]
    }
   ],
   "source": [
    "# [ ] use a while True loop (forever loop) to give 4 chances for input of a correct color in a rainbow\n",
    "# rainbow = \"red orange yellow green blue indigo violet\"\n",
    "rainbow = [\"red\", \"orange\", \"yellow\", \"green\", \"blue\", \"indigo\", \"violet\"]\n",
    "\n",
    "while True:\n",
    "    name = input(\"Guess a color in the rainbow\")\n",
    "    if name in rainbow:\n",
    "        print(\"Very good and on your first try!\")\n",
    "        break\n",
    "    else:\n",
    "        name = input(\"Sorry thats not in the rainbow please try again: \")\n",
    "        if name in rainbow:\n",
    "            print(\"You did good and on your second try!\")\n",
    "            break\n",
    "        else:\n",
    "             name = input(\"Sorry thats not in the rainbow please try again: \")\n",
    "             if name in rainbow:\n",
    "                 print(\"you did alright and on your third try!\")\n",
    "                 break\n",
    "             else:\n",
    "                 name = input(\"Sorry thats not in the rainbow please try again: \")\n",
    "                 if name in rainbow:\n",
    "                     print(\"you did okay and on your fourth try\")\n",
    "                     break\n",
    "                 else:\n",
    "                     break\n",
    "        \n",
    "        \n",
    "        \n",
    "    \n",
    "    "
   ]
  },
  {
   "cell_type": "code",
   "execution_count": 30,
   "metadata": {},
   "outputs": [
    {
     "name": "stdin",
     "output_type": "stream",
     "text": [
      "Name a book title cars\n",
      "Name a book title trains\n",
      "Name a book title Animals Calling\n"
     ]
    }
   ],
   "source": [
    "# [ ] Get input for a book title, keep looping while input is Not in title format (title is every word capitalized)\n",
    "title = \"\"\n",
    "while True:\n",
    "    title = input(\"Name a book title\")\n",
    "    if title.istitle():\n",
    "        break\n",
    "\n",
    "\n",
    "\n"
   ]
  },
  {
   "cell_type": "code",
   "execution_count": 33,
   "metadata": {},
   "outputs": [
    {
     "name": "stdin",
     "output_type": "stream",
     "text": [
      "Whats 40 times 100 8\n",
      "Whats 40 times 100 88\n",
      "Whats 40 times 100 555\n",
      "Whats 40 times 100 4000\n"
     ]
    }
   ],
   "source": [
    "# [ ] create a math quiz question and ask for the solution until the input is correct\n",
    "question = \"\"\n",
    "while True:\n",
    "    question = input(\"Whats 40 times 100\")\n",
    "    if question == \"4000\":\n",
    "        break\n",
    "    \n",
    "\n"
   ]
  },
  {
   "cell_type": "markdown",
   "metadata": {},
   "source": [
    "### Fix the Error"
   ]
  },
  {
   "cell_type": "code",
   "execution_count": 40,
   "metadata": {},
   "outputs": [
    {
     "name": "stdin",
     "output_type": "stream",
     "text": [
      "enter tickets remaining (0 to quit):  3\n"
     ]
    },
    {
     "name": "stdout",
     "output_type": "stream",
     "text": [
      "you win!\n",
      "Game ended\n"
     ]
    }
   ],
   "source": [
    "# [ ] review the code, run, fix the error\n",
    "tickets = input(\"enter tickets remaining (0 to quit): \")\n",
    "\n",
    "while int(tickets) > 0:\n",
    "        # if tickets are multiple of 3 then \"winner\"\n",
    "    if int(tickets) / 3 == 1:\n",
    "        print(\"you win!\")\n",
    "        break\n",
    "    else:\n",
    "        print(\"sorry, not a winner.\")\n",
    "    tickets = int(input(\"enter tickets remaining (0 to quit): \"))\n",
    "\n",
    "print(\"Game ended\")\n",
    "    \n"
   ]
  },
  {
   "cell_type": "markdown",
   "metadata": {},
   "source": [
    "### create a function: quiz_item()  that asks a question and tests if input is correct  \n",
    "- quiz_item()has 2 parameter **strings**: question and solution  \n",
    "- shows question, gets answer input  \n",
    "- returns True if `answer == solution` or continues to ask question until correct answer is provided  \n",
    "- use a while loop\n",
    "\n",
    "create 2 or more quiz questions that call quiz_item()  \n",
    "**Hint**: provide multiple choice or T/F answers"
   ]
  },
  {
   "cell_type": "code",
   "execution_count": 83,
   "metadata": {},
   "outputs": [
    {
     "name": "stdin",
     "output_type": "stream",
     "text": [
      "What is the biggest star in the sky? (Answer a. b. c. or d.)\n",
      " a. Jupiter\n",
      " b. Sun\n",
      " c. Giraffe\n",
      " d. Moon\n",
      "Your answer:  b.\n"
     ]
    },
    {
     "name": "stdout",
     "output_type": "stream",
     "text": [
      "Correct!\n",
      "\n"
     ]
    },
    {
     "name": "stdin",
     "output_type": "stream",
     "text": [
      "What color is the sky during the day? (Answer a. b. c. or d.)\n",
      " a. Blue\n",
      " b. Green\n",
      " c. Yellow\n",
      " d. Red\n",
      "Your answer:  a.\n"
     ]
    },
    {
     "name": "stdout",
     "output_type": "stream",
     "text": [
      "Correct!\n",
      "\n"
     ]
    },
    {
     "data": {
      "text/plain": [
       "True"
      ]
     },
     "execution_count": 83,
     "metadata": {},
     "output_type": "execute_result"
    }
   ],
   "source": [
    "def quiz_item(question, solution):\n",
    "    while True:\n",
    "        answer = input(question + \"\\nYour answer: \").lower()\n",
    "        if answer.lower() == solution.lower():\n",
    "            print(\"Correct!\\n\")\n",
    "            return True\n",
    "        else:\n",
    "            print(\"Incorrect, try again.\\n\")\n",
    "\n",
    "\n",
    "quiz_item(\"What is the biggest star in the sky? (Answer a. b. c. or d.)\\n a. Jupiter\\n b. Sun\\n c. Giraffe\\n d. Moon\", \"b.\")\n",
    "\n",
    "quiz_item(\"What color is the sky during the day? (Answer a. b. c. or d.)\\n a. Blue\\n b. Green\\n c. Yellow\\n d. Red\", \"a.\")\n"
   ]
  },
  {
   "cell_type": "markdown",
   "metadata": {
    "collapsed": true,
    "jupyter": {
     "outputs_hidden": true
    }
   },
   "source": [
    "[Terms of use](http://go.microsoft.com/fwlink/?LinkID=206977) &nbsp; [Privacy & cookies](https://go.microsoft.com/fwlink/?LinkId=521839) &nbsp; © 2017 Microsoft"
   ]
  }
 ],
 "metadata": {
  "anaconda-cloud": {},
  "kernelspec": {
   "display_name": "Python 3 (ipykernel)",
   "language": "python",
   "name": "python3"
  },
  "language_info": {
   "codemirror_mode": {
    "name": "ipython",
    "version": 3
   },
   "file_extension": ".py",
   "mimetype": "text/x-python",
   "name": "python",
   "nbconvert_exporter": "python",
   "pygments_lexer": "ipython3",
   "version": "3.13.7"
  }
 },
 "nbformat": 4,
 "nbformat_minor": 4
}
