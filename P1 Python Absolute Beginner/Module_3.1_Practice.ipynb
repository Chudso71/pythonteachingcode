{
 "cells": [
  {
   "cell_type": "markdown",
   "metadata": {},
   "source": [
    "# P1M3: Module 3 Practice\n",
    "## Conditionals\n",
    "<font size=\"5\" color=\"#00A0B2\"  face=\"verdana\"> <B>Student will be able to</B></font>\n",
    "- **control code flow with `if`... `else` conditional logic**\n",
    "  - using Boolean string methods (`.isupper(), .isalpha(), .startswith()...`)\n",
    "  - using comparision (`>, <, >=, <=, ==, !=`)\n",
    "  - using Strings in comparisons  \n",
    "\n",
    "## `if else`\n"
   ]
  },
  {
   "cell_type": "code",
   "execution_count": 1,
   "metadata": {},
   "outputs": [
    {
     "name": "stdin",
     "output_type": "stream",
     "text": [
      "Input your age (use only whole numbers):  88\n"
     ]
    },
    {
     "name": "stdout",
     "output_type": "stream",
     "text": [
      "Age's first type is:  <class 'int'>\n",
      "Age's second type is:  <class 'int'>\n",
      "In ten years you will be 98.\n"
     ]
    }
   ],
   "source": [
    "# [ ] input a variable: age as digit and cast to int\n",
    "# if age greater than or equal to 12 then print message on age in 10 years \n",
    "# or else print message \"It is good to be\" age\n",
    "age = int(input(\"Input your age (use only whole numbers): \"))\n",
    "print(\"Age's first type is: \",type(age))\n",
    "age = int(age)\n",
    "print(\"Age's second type is: \",type(age))\n",
    "\n",
    "if age >= 12:\n",
    "    print(\"In ten years you will be \"+str(age+10)+\".\")\n",
    "else:\n",
    "    print(\"It is good to be \"+str(age)+\".\")\n",
    "\n",
    "\n",
    "\n"
   ]
  },
  {
   "cell_type": "code",
   "execution_count": 2,
   "metadata": {},
   "outputs": [
    {
     "name": "stdout",
     "output_type": "stream",
     "text": [
      "True\n",
      "3\n"
     ]
    }
   ],
   "source": [
    "# [ ] input a number \n",
    "# if number IS a digit string then cast to int\n",
    "# print number \"greater than 100 is\" True/False\n",
    "# if number is NOT a digit string then message the user that \"only int is accepted\"\n",
    "\n",
    "print(\"Dominic\".isalpha())\n",
    "my_var = \"123\"\n",
    "\n",
    "print(len(my_var))\n"
   ]
  },
  {
   "cell_type": "markdown",
   "metadata": {},
   "source": [
    "### Guessing a letter A-Z  \n",
    "**check_guess()** takes 2 string arguments: **letter and guess** (both expect single alphabetical character)   \n",
    "    - if guess is not an alpha character print invalid and return False\n",
    "    - test and print if guess is \"high\" or \"low\" and return False\n",
    "    - test and print if guess is \"correct\" and return True"
   ]
  },
  {
   "cell_type": "code",
   "execution_count": 3,
   "metadata": {},
   "outputs": [
    {
     "name": "stdin",
     "output_type": "stream",
     "text": [
      "Guess the letter (provide one letter):  8\n"
     ]
    },
    {
     "name": "stdout",
     "output_type": "stream",
     "text": [
      "Invalid - not alphabetical\n"
     ]
    },
    {
     "name": "stdin",
     "output_type": "stream",
     "text": [
      "Guess the letter (provide one letter):  y\n"
     ]
    },
    {
     "name": "stdout",
     "output_type": "stream",
     "text": [
      "Low\n"
     ]
    },
    {
     "name": "stdin",
     "output_type": "stream",
     "text": [
      "Guess the letter (provide one letter):  t\n"
     ]
    },
    {
     "name": "stdout",
     "output_type": "stream",
     "text": [
      "Low\n",
      "You lose.\n"
     ]
    }
   ],
   "source": [
    "# [ ] create check_guess()\n",
    "def check_guess(letter,guess):\n",
    "    guess = str(guess)\n",
    "    if guess.isalpha():\n",
    "        #guess is alphabetical letters\n",
    "        if len(guess)==1:\n",
    "            #guess is one character\n",
    "            #TODO check the guess\n",
    "            if guess == letter:\n",
    "                print(\"Correct\")\n",
    "                return True\n",
    "            elif guess > letter:\n",
    "                print(\"Low\")\n",
    "                return False\n",
    "            elif guess < letter:\n",
    "                print(\"High\")\n",
    "                return False\n",
    "            else:\n",
    "                print(\"unhandled exception\")\n",
    "                return False\n",
    "        else:\n",
    "            print(\"Invalid - more than one character\")\n",
    "            return False\n",
    "    else:\n",
    "        print(\"Invalid - not alphabetical\")\n",
    "        return False\n",
    "    \n",
    "def letter_game(correct_answer):\n",
    "    this_guess = input(\"Guess the letter (provide one letter): \")\n",
    "    if True == check_guess(correct_answer,this_guess):\n",
    "        print(\"On the first try! What a mensch.\")\n",
    "    else:\n",
    "        #second guess\n",
    "        this_guess = input(\"Guess the letter (provide one letter): \")\n",
    "        if True == check_guess(correct_answer,this_guess):\n",
    "            print(\"On the second try! What a mensch.\")\n",
    "        else:\n",
    "        #third guess\n",
    "            this_guess = input(\"Guess the letter (provide one letter): \")\n",
    "            if True == check_guess(correct_answer,this_guess):\n",
    "                print(\"On the third try! Sortta slow.\")\n",
    "            else:\n",
    "                print(\"You lose.\")\n",
    "\n",
    "letter_game(\"A\")"
   ]
  },
  {
   "cell_type": "code",
   "execution_count": 4,
   "metadata": {},
   "outputs": [
    {
     "name": "stdout",
     "output_type": "stream",
     "text": [
      "<function check_guess at 0x10457d760>\n"
     ]
    }
   ],
   "source": [
    "# [ ] call check_guess with user input\n",
    "L = input(\"Guess the letter\")\n",
    "G = input(\"\n"
   ]
  },
  {
   "cell_type": "markdown",
   "metadata": {},
   "source": [
    "### Letter Guess\n",
    "**create letter_guess() function that gives user 3 guesses**\n",
    "- takes a letter character argument for the answer letter\n",
    "- gets user input for letter guess  \n",
    "- calls check_guess() with answer and guess\n",
    "- End letter_guess if \n",
    "    - check_guess() equals True, return True  \n",
    "    - or after 3 failed attempts, return False"
   ]
  },
  {
   "cell_type": "code",
   "execution_count": null,
   "metadata": {
    "collapsed": true,
    "jupyter": {
     "outputs_hidden": true
    }
   },
   "outputs": [],
   "source": [
    "# [ ] create letter_guess() function, call the function to test\n",
    "\n",
    "\n"
   ]
  },
  {
   "cell_type": "markdown",
   "metadata": {},
   "source": [
    "### Pet Conversation\n",
    "**ask the user for a sentence about a pet and then reply**  \n",
    "- get user input in variable: about_pet\n",
    "- using a series of **if** statements respond with appropriate conversation\n",
    "  - check if \"dog\" is in the string about_pet (sample reply \"Ah, a dog\")\n",
    "  - check if \"cat\" is in the string about_pet\n",
    "  - check if 1 or more animal is in string about_pet\n",
    "- no need for **else**'s\n",
    "- finish with thanking for the story"
   ]
  },
  {
   "cell_type": "code",
   "execution_count": null,
   "metadata": {
    "collapsed": true,
    "jupyter": {
     "outputs_hidden": true
    }
   },
   "outputs": [],
   "source": [
    "# [ ] complete pet conversation\n",
    "\n"
   ]
  },
  {
   "cell_type": "markdown",
   "metadata": {},
   "source": [
    "# Module 3 Practice 2\n",
    "## conditionals, type, and mathematics extended   \n",
    "&nbsp;\n",
    "<font size=\"5\" color=\"#00A0B2\"  face=\"verdana\"> <B>Student will be able to</B></font>  \n",
    "- code more than two choices using **`elif`** \n",
    "- gather numeric input using type casting  \n",
    "- perform subtraction, multiplication and division operations in code  &nbsp;  \n"
   ]
  },
  {
   "cell_type": "markdown",
   "metadata": {},
   "source": [
    "# &nbsp;  \n",
    "<font size=\"6\" color=\"#B24C00\"  face=\"verdana\"> <B>Tasks</B></font>"
   ]
  },
  {
   "cell_type": "markdown",
   "metadata": {},
   "source": [
    "### Rainbow colors\n",
    "ask for input of a favorite rainbow color first letter: ROYGBIV  \n",
    "\n",
    "Using `if`, `elif`, and `else`:  \n",
    "- print the color matching the letter  \n",
    "    - R = Red  \n",
    "    - O = Orange  \n",
    "    - Y = Yellow  \n",
    "    - G = Green\n",
    "    - B = Blue\n",
    "    - I = Indigo\n",
    "    - V = Violet\n",
    "    - else print \"no match\"\n"
   ]
  },
  {
   "cell_type": "code",
   "execution_count": 10,
   "metadata": {},
   "outputs": [
    {
     "name": "stdin",
     "output_type": "stream",
     "text": [
      "Whats the first letter of your favorite color from a rainbow? r\n"
     ]
    },
    {
     "name": "stdout",
     "output_type": "stream",
     "text": [
      "Red\n"
     ]
    }
   ],
   "source": [
    "# [ ] complete rainbow colors\n",
    "favcolor = input(\"Whats the first letter of your favorite color from a rainbow?\")\n",
    "favcolor = favcolor.upper()\n",
    "if favcolor == \"R\":\n",
    "    print(\"Red\")\n",
    "elif favcolor == \"O\":\n",
    "    print (\"Orange\")\n",
    "elif favcolor == \"Y\":\n",
    "    print (\"Yellow\")\n",
    "elif favcolor == \"G\":\n",
    "    print (\"Green\")\n",
    "elif favcolor == \"B\":\n",
    "    print (\"Blue\")\n",
    "elif favcolor == \"I\":\n",
    "    print (\"Indigo\")\n",
    "elif favcolor == \"V\":\n",
    "    print (\"Violet\")\n",
    "else:\n",
    "    print(\"no match\")"
   ]
  },
  {
   "cell_type": "code",
   "execution_count": 21,
   "metadata": {},
   "outputs": [
    {
     "name": "stdin",
     "output_type": "stream",
     "text": [
      "Whats the first letter of your favorite color from a rainbow? p\n"
     ]
    },
    {
     "name": "stdout",
     "output_type": "stream",
     "text": [
      "no match\n"
     ]
    }
   ],
   "source": [
    "# [ ] make the code above into a function rainbow_color() that has a string parameter, \n",
    "# get input and call the function and return the matching color as a string or \"no match\" message.\n",
    "# Call the function and print the return string.\n",
    "def rainbow_color(favcolor):\n",
    "   \n",
    "    favcolor = favcolor.upper()\n",
    "    if favcolor == \"R\":\n",
    "        return(\"Red\")\n",
    "    elif favcolor == \"O\":\n",
    "        return (\"Orange\")\n",
    "    elif favcolor == \"Y\":\n",
    "        return (\"Yellow\")\n",
    "    elif favcolor == \"G\":\n",
    "        return (\"Green\")\n",
    "    elif favcolor == \"B\":\n",
    "        return (\"Blue\")\n",
    "    elif favcolor == \"I\":\n",
    "        return (\"Indigo\")\n",
    "    elif favcolor == \"V\":\n",
    "        return (\"Violet\")\n",
    "    else:\n",
    "        return \"no match\"\n",
    "user_input = input(\"Whats the first letter of your favorite color from a rainbow?\")\n",
    "print(rainbow_color(user_input))\n",
    "    \n"
   ]
  },
  {
   "cell_type": "markdown",
   "metadata": {},
   "source": [
    "# &nbsp;  \n",
    "**Create function age_20() that adds or subtracts 20 from your age for a return value based on current age** (use `if`) \n",
    "- call the funtion with user input and then use the return value in a sentence  \n",
    "example `age_20(25)` returns **5**: \n",
    "> \"5 years old, 20 years difference from now\""
   ]
  },
  {
   "cell_type": "code",
   "execution_count": 38,
   "metadata": {},
   "outputs": [
    {
     "name": "stdin",
     "output_type": "stream",
     "text": [
      "Please state your age: 79\n"
     ]
    },
    {
     "name": "stdout",
     "output_type": "stream",
     "text": [
      "59 years old, 20 years differnece from now\n"
     ]
    }
   ],
